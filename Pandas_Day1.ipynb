{
 "cells": [
  {
   "cell_type": "code",
   "execution_count": 1,
   "id": "overhead-infection",
   "metadata": {},
   "outputs": [],
   "source": [
    "import pandas as pd\n"
   ]
  },
  {
   "cell_type": "code",
   "execution_count": 2,
   "id": "fourth-segment",
   "metadata": {},
   "outputs": [],
   "source": [
    "dict1 = {\n",
    "    \"marks\":[10,20,30,14,69],\n",
    "    \"name\":[\"bikon\",'rajin','rifat','niam','fahim'],\n",
    "    \"location\":['ganginarpar','kachijhuli','amc','amc','onekdure']\n",
    "}"
   ]
  },
  {
   "cell_type": "code",
   "execution_count": 3,
   "id": "bibliographic-neutral",
   "metadata": {},
   "outputs": [],
   "source": [
    "df = pd.DataFrame(dict1)"
   ]
  },
  {
   "cell_type": "code",
   "execution_count": 4,
   "id": "charitable-status",
   "metadata": {},
   "outputs": [
    {
     "data": {
      "text/html": [
       "<div>\n",
       "<style scoped>\n",
       "    .dataframe tbody tr th:only-of-type {\n",
       "        vertical-align: middle;\n",
       "    }\n",
       "\n",
       "    .dataframe tbody tr th {\n",
       "        vertical-align: top;\n",
       "    }\n",
       "\n",
       "    .dataframe thead th {\n",
       "        text-align: right;\n",
       "    }\n",
       "</style>\n",
       "<table border=\"1\" class=\"dataframe\">\n",
       "  <thead>\n",
       "    <tr style=\"text-align: right;\">\n",
       "      <th></th>\n",
       "      <th>marks</th>\n",
       "      <th>name</th>\n",
       "      <th>location</th>\n",
       "    </tr>\n",
       "  </thead>\n",
       "  <tbody>\n",
       "    <tr>\n",
       "      <th>0</th>\n",
       "      <td>10</td>\n",
       "      <td>bikon</td>\n",
       "      <td>ganginarpar</td>\n",
       "    </tr>\n",
       "    <tr>\n",
       "      <th>1</th>\n",
       "      <td>20</td>\n",
       "      <td>rajin</td>\n",
       "      <td>kachijhuli</td>\n",
       "    </tr>\n",
       "    <tr>\n",
       "      <th>2</th>\n",
       "      <td>30</td>\n",
       "      <td>rifat</td>\n",
       "      <td>amc</td>\n",
       "    </tr>\n",
       "    <tr>\n",
       "      <th>3</th>\n",
       "      <td>14</td>\n",
       "      <td>niam</td>\n",
       "      <td>amc</td>\n",
       "    </tr>\n",
       "    <tr>\n",
       "      <th>4</th>\n",
       "      <td>69</td>\n",
       "      <td>fahim</td>\n",
       "      <td>onekdure</td>\n",
       "    </tr>\n",
       "  </tbody>\n",
       "</table>\n",
       "</div>"
      ],
      "text/plain": [
       "   marks   name     location\n",
       "0     10  bikon  ganginarpar\n",
       "1     20  rajin   kachijhuli\n",
       "2     30  rifat          amc\n",
       "3     14   niam          amc\n",
       "4     69  fahim     onekdure"
      ]
     },
     "execution_count": 4,
     "metadata": {},
     "output_type": "execute_result"
    }
   ],
   "source": [
    "df\n"
   ]
  },
  {
   "cell_type": "code",
   "execution_count": 5,
   "id": "optional-signal",
   "metadata": {},
   "outputs": [],
   "source": [
    "df.to_csv('frends0.csv')"
   ]
  },
  {
   "cell_type": "code",
   "execution_count": 6,
   "id": "fabulous-junction",
   "metadata": {},
   "outputs": [],
   "source": [
    "df.to_csv('friends2.csv',index=False)"
   ]
  },
  {
   "cell_type": "code",
   "execution_count": 7,
   "id": "pleasant-function",
   "metadata": {},
   "outputs": [
    {
     "data": {
      "text/html": [
       "<div>\n",
       "<style scoped>\n",
       "    .dataframe tbody tr th:only-of-type {\n",
       "        vertical-align: middle;\n",
       "    }\n",
       "\n",
       "    .dataframe tbody tr th {\n",
       "        vertical-align: top;\n",
       "    }\n",
       "\n",
       "    .dataframe thead th {\n",
       "        text-align: right;\n",
       "    }\n",
       "</style>\n",
       "<table border=\"1\" class=\"dataframe\">\n",
       "  <thead>\n",
       "    <tr style=\"text-align: right;\">\n",
       "      <th></th>\n",
       "      <th>marks</th>\n",
       "      <th>name</th>\n",
       "      <th>location</th>\n",
       "    </tr>\n",
       "  </thead>\n",
       "  <tbody>\n",
       "    <tr>\n",
       "      <th>0</th>\n",
       "      <td>10</td>\n",
       "      <td>bikon</td>\n",
       "      <td>ganginarpar</td>\n",
       "    </tr>\n",
       "    <tr>\n",
       "      <th>1</th>\n",
       "      <td>20</td>\n",
       "      <td>rajin</td>\n",
       "      <td>kachijhuli</td>\n",
       "    </tr>\n",
       "  </tbody>\n",
       "</table>\n",
       "</div>"
      ],
      "text/plain": [
       "   marks   name     location\n",
       "0     10  bikon  ganginarpar\n",
       "1     20  rajin   kachijhuli"
      ]
     },
     "execution_count": 7,
     "metadata": {},
     "output_type": "execute_result"
    }
   ],
   "source": [
    "df.head(2)"
   ]
  },
  {
   "cell_type": "code",
   "execution_count": 8,
   "id": "surrounded-calgary",
   "metadata": {},
   "outputs": [
    {
     "data": {
      "text/html": [
       "<div>\n",
       "<style scoped>\n",
       "    .dataframe tbody tr th:only-of-type {\n",
       "        vertical-align: middle;\n",
       "    }\n",
       "\n",
       "    .dataframe tbody tr th {\n",
       "        vertical-align: top;\n",
       "    }\n",
       "\n",
       "    .dataframe thead th {\n",
       "        text-align: right;\n",
       "    }\n",
       "</style>\n",
       "<table border=\"1\" class=\"dataframe\">\n",
       "  <thead>\n",
       "    <tr style=\"text-align: right;\">\n",
       "      <th></th>\n",
       "      <th>marks</th>\n",
       "      <th>name</th>\n",
       "      <th>location</th>\n",
       "    </tr>\n",
       "  </thead>\n",
       "  <tbody>\n",
       "    <tr>\n",
       "      <th>3</th>\n",
       "      <td>14</td>\n",
       "      <td>niam</td>\n",
       "      <td>amc</td>\n",
       "    </tr>\n",
       "    <tr>\n",
       "      <th>4</th>\n",
       "      <td>69</td>\n",
       "      <td>fahim</td>\n",
       "      <td>onekdure</td>\n",
       "    </tr>\n",
       "  </tbody>\n",
       "</table>\n",
       "</div>"
      ],
      "text/plain": [
       "   marks   name  location\n",
       "3     14   niam       amc\n",
       "4     69  fahim  onekdure"
      ]
     },
     "execution_count": 8,
     "metadata": {},
     "output_type": "execute_result"
    }
   ],
   "source": [
    "df.tail(2)"
   ]
  },
  {
   "cell_type": "code",
   "execution_count": 9,
   "id": "vertical-testimony",
   "metadata": {},
   "outputs": [
    {
     "data": {
      "text/html": [
       "<div>\n",
       "<style scoped>\n",
       "    .dataframe tbody tr th:only-of-type {\n",
       "        vertical-align: middle;\n",
       "    }\n",
       "\n",
       "    .dataframe tbody tr th {\n",
       "        vertical-align: top;\n",
       "    }\n",
       "\n",
       "    .dataframe thead th {\n",
       "        text-align: right;\n",
       "    }\n",
       "</style>\n",
       "<table border=\"1\" class=\"dataframe\">\n",
       "  <thead>\n",
       "    <tr style=\"text-align: right;\">\n",
       "      <th></th>\n",
       "      <th>marks</th>\n",
       "    </tr>\n",
       "  </thead>\n",
       "  <tbody>\n",
       "    <tr>\n",
       "      <th>count</th>\n",
       "      <td>5.000000</td>\n",
       "    </tr>\n",
       "    <tr>\n",
       "      <th>mean</th>\n",
       "      <td>28.600000</td>\n",
       "    </tr>\n",
       "    <tr>\n",
       "      <th>std</th>\n",
       "      <td>23.807562</td>\n",
       "    </tr>\n",
       "    <tr>\n",
       "      <th>min</th>\n",
       "      <td>10.000000</td>\n",
       "    </tr>\n",
       "    <tr>\n",
       "      <th>25%</th>\n",
       "      <td>14.000000</td>\n",
       "    </tr>\n",
       "    <tr>\n",
       "      <th>50%</th>\n",
       "      <td>20.000000</td>\n",
       "    </tr>\n",
       "    <tr>\n",
       "      <th>75%</th>\n",
       "      <td>30.000000</td>\n",
       "    </tr>\n",
       "    <tr>\n",
       "      <th>max</th>\n",
       "      <td>69.000000</td>\n",
       "    </tr>\n",
       "  </tbody>\n",
       "</table>\n",
       "</div>"
      ],
      "text/plain": [
       "           marks\n",
       "count   5.000000\n",
       "mean   28.600000\n",
       "std    23.807562\n",
       "min    10.000000\n",
       "25%    14.000000\n",
       "50%    20.000000\n",
       "75%    30.000000\n",
       "max    69.000000"
      ]
     },
     "execution_count": 9,
     "metadata": {},
     "output_type": "execute_result"
    }
   ],
   "source": [
    "df.describe()"
   ]
  },
  {
   "cell_type": "code",
   "execution_count": 10,
   "id": "arctic-samuel",
   "metadata": {},
   "outputs": [
    {
     "data": {
      "text/plain": [
       "marks             69\n",
       "name           rifat\n",
       "location    onekdure\n",
       "dtype: object"
      ]
     },
     "execution_count": 10,
     "metadata": {},
     "output_type": "execute_result"
    }
   ],
   "source": [
    "df.max()"
   ]
  },
  {
   "cell_type": "code",
   "execution_count": 11,
   "id": "inappropriate-postcard",
   "metadata": {},
   "outputs": [],
   "source": [
    "bikon =pd.read_csv('bikon.csv')"
   ]
  },
  {
   "cell_type": "code",
   "execution_count": 12,
   "id": "killing-feelings",
   "metadata": {},
   "outputs": [
    {
     "data": {
      "text/html": [
       "<div>\n",
       "<style scoped>\n",
       "    .dataframe tbody tr th:only-of-type {\n",
       "        vertical-align: middle;\n",
       "    }\n",
       "\n",
       "    .dataframe tbody tr th {\n",
       "        vertical-align: top;\n",
       "    }\n",
       "\n",
       "    .dataframe thead th {\n",
       "        text-align: right;\n",
       "    }\n",
       "</style>\n",
       "<table border=\"1\" class=\"dataframe\">\n",
       "  <thead>\n",
       "    <tr style=\"text-align: right;\">\n",
       "      <th></th>\n",
       "      <th>Train No</th>\n",
       "      <th>Speed</th>\n",
       "      <th>Location</th>\n",
       "    </tr>\n",
       "  </thead>\n",
       "  <tbody>\n",
       "    <tr>\n",
       "      <th>0</th>\n",
       "      <td>10</td>\n",
       "      <td>22</td>\n",
       "      <td>ganginarpar</td>\n",
       "    </tr>\n",
       "    <tr>\n",
       "      <th>1</th>\n",
       "      <td>20</td>\n",
       "      <td>33</td>\n",
       "      <td>kachijhuli</td>\n",
       "    </tr>\n",
       "    <tr>\n",
       "      <th>2</th>\n",
       "      <td>30</td>\n",
       "      <td>44</td>\n",
       "      <td>amc</td>\n",
       "    </tr>\n",
       "    <tr>\n",
       "      <th>3</th>\n",
       "      <td>14</td>\n",
       "      <td>55</td>\n",
       "      <td>amc</td>\n",
       "    </tr>\n",
       "    <tr>\n",
       "      <th>4</th>\n",
       "      <td>69</td>\n",
       "      <td>66</td>\n",
       "      <td>onekdure</td>\n",
       "    </tr>\n",
       "  </tbody>\n",
       "</table>\n",
       "</div>"
      ],
      "text/plain": [
       "   Train No  Speed     Location\n",
       "0        10     22  ganginarpar\n",
       "1        20     33   kachijhuli\n",
       "2        30     44          amc\n",
       "3        14     55          amc\n",
       "4        69     66     onekdure"
      ]
     },
     "execution_count": 12,
     "metadata": {},
     "output_type": "execute_result"
    }
   ],
   "source": [
    "bikon"
   ]
  },
  {
   "cell_type": "code",
   "execution_count": 13,
   "id": "precious-range",
   "metadata": {},
   "outputs": [
    {
     "data": {
      "text/plain": [
       "0    22\n",
       "1    33\n",
       "2    44\n",
       "3    55\n",
       "4    66\n",
       "Name: Speed, dtype: int64"
      ]
     },
     "execution_count": 13,
     "metadata": {},
     "output_type": "execute_result"
    }
   ],
   "source": [
    "bikon['Speed']"
   ]
  },
  {
   "cell_type": "code",
   "execution_count": 14,
   "id": "eight-honduras",
   "metadata": {},
   "outputs": [
    {
     "name": "stderr",
     "output_type": "stream",
     "text": [
      "<ipython-input-14-162cb976d8b4>:1: SettingWithCopyWarning: \n",
      "A value is trying to be set on a copy of a slice from a DataFrame\n",
      "\n",
      "See the caveats in the documentation: https://pandas.pydata.org/pandas-docs/stable/user_guide/indexing.html#returning-a-view-versus-a-copy\n",
      "  bikon['Speed'][1] = 99 #works_good\n"
     ]
    }
   ],
   "source": [
    "bikon['Speed'][1] = 99 #works_good"
   ]
  },
  {
   "cell_type": "code",
   "execution_count": 15,
   "id": "choice-triple",
   "metadata": {},
   "outputs": [
    {
     "data": {
      "text/html": [
       "<div>\n",
       "<style scoped>\n",
       "    .dataframe tbody tr th:only-of-type {\n",
       "        vertical-align: middle;\n",
       "    }\n",
       "\n",
       "    .dataframe tbody tr th {\n",
       "        vertical-align: top;\n",
       "    }\n",
       "\n",
       "    .dataframe thead th {\n",
       "        text-align: right;\n",
       "    }\n",
       "</style>\n",
       "<table border=\"1\" class=\"dataframe\">\n",
       "  <thead>\n",
       "    <tr style=\"text-align: right;\">\n",
       "      <th></th>\n",
       "      <th>Train No</th>\n",
       "      <th>Speed</th>\n",
       "      <th>Location</th>\n",
       "    </tr>\n",
       "  </thead>\n",
       "  <tbody>\n",
       "    <tr>\n",
       "      <th>0</th>\n",
       "      <td>10</td>\n",
       "      <td>22</td>\n",
       "      <td>ganginarpar</td>\n",
       "    </tr>\n",
       "    <tr>\n",
       "      <th>1</th>\n",
       "      <td>20</td>\n",
       "      <td>99</td>\n",
       "      <td>kachijhuli</td>\n",
       "    </tr>\n",
       "    <tr>\n",
       "      <th>2</th>\n",
       "      <td>30</td>\n",
       "      <td>44</td>\n",
       "      <td>amc</td>\n",
       "    </tr>\n",
       "    <tr>\n",
       "      <th>3</th>\n",
       "      <td>14</td>\n",
       "      <td>55</td>\n",
       "      <td>amc</td>\n",
       "    </tr>\n",
       "    <tr>\n",
       "      <th>4</th>\n",
       "      <td>69</td>\n",
       "      <td>66</td>\n",
       "      <td>onekdure</td>\n",
       "    </tr>\n",
       "  </tbody>\n",
       "</table>\n",
       "</div>"
      ],
      "text/plain": [
       "   Train No  Speed     Location\n",
       "0        10     22  ganginarpar\n",
       "1        20     99   kachijhuli\n",
       "2        30     44          amc\n",
       "3        14     55          amc\n",
       "4        69     66     onekdure"
      ]
     },
     "execution_count": 15,
     "metadata": {},
     "output_type": "execute_result"
    }
   ],
   "source": [
    "bikon"
   ]
  },
  {
   "cell_type": "code",
   "execution_count": 16,
   "id": "mighty-tuition",
   "metadata": {},
   "outputs": [],
   "source": [
    "bikon.to_csv(\"bikon1.csv\")"
   ]
  },
  {
   "cell_type": "code",
   "execution_count": 17,
   "id": "ordered-jungle",
   "metadata": {},
   "outputs": [],
   "source": [
    "bikon.index =['first',\"second\",\"third\",\"fouth\",\"fifth\"]"
   ]
  },
  {
   "cell_type": "code",
   "execution_count": 18,
   "id": "cellular-ceremony",
   "metadata": {},
   "outputs": [
    {
     "data": {
      "text/html": [
       "<div>\n",
       "<style scoped>\n",
       "    .dataframe tbody tr th:only-of-type {\n",
       "        vertical-align: middle;\n",
       "    }\n",
       "\n",
       "    .dataframe tbody tr th {\n",
       "        vertical-align: top;\n",
       "    }\n",
       "\n",
       "    .dataframe thead th {\n",
       "        text-align: right;\n",
       "    }\n",
       "</style>\n",
       "<table border=\"1\" class=\"dataframe\">\n",
       "  <thead>\n",
       "    <tr style=\"text-align: right;\">\n",
       "      <th></th>\n",
       "      <th>Train No</th>\n",
       "      <th>Speed</th>\n",
       "      <th>Location</th>\n",
       "    </tr>\n",
       "  </thead>\n",
       "  <tbody>\n",
       "    <tr>\n",
       "      <th>first</th>\n",
       "      <td>10</td>\n",
       "      <td>22</td>\n",
       "      <td>ganginarpar</td>\n",
       "    </tr>\n",
       "    <tr>\n",
       "      <th>second</th>\n",
       "      <td>20</td>\n",
       "      <td>99</td>\n",
       "      <td>kachijhuli</td>\n",
       "    </tr>\n",
       "    <tr>\n",
       "      <th>third</th>\n",
       "      <td>30</td>\n",
       "      <td>44</td>\n",
       "      <td>amc</td>\n",
       "    </tr>\n",
       "    <tr>\n",
       "      <th>fouth</th>\n",
       "      <td>14</td>\n",
       "      <td>55</td>\n",
       "      <td>amc</td>\n",
       "    </tr>\n",
       "    <tr>\n",
       "      <th>fifth</th>\n",
       "      <td>69</td>\n",
       "      <td>66</td>\n",
       "      <td>onekdure</td>\n",
       "    </tr>\n",
       "  </tbody>\n",
       "</table>\n",
       "</div>"
      ],
      "text/plain": [
       "        Train No  Speed     Location\n",
       "first         10     22  ganginarpar\n",
       "second        20     99   kachijhuli\n",
       "third         30     44          amc\n",
       "fouth         14     55          amc\n",
       "fifth         69     66     onekdure"
      ]
     },
     "execution_count": 18,
     "metadata": {},
     "output_type": "execute_result"
    }
   ],
   "source": [
    "bikon"
   ]
  },
  {
   "cell_type": "code",
   "execution_count": 19,
   "id": "designed-transmission",
   "metadata": {},
   "outputs": [],
   "source": [
    "import numpy as np"
   ]
  },
  {
   "cell_type": "code",
   "execution_count": 20,
   "id": "comparative-welcome",
   "metadata": {},
   "outputs": [],
   "source": [
    "ser = pd.Series(np.random.rand(10))"
   ]
  },
  {
   "cell_type": "code",
   "execution_count": 21,
   "id": "digital-hanging",
   "metadata": {},
   "outputs": [
    {
     "data": {
      "text/plain": [
       "0    0.502171\n",
       "1    0.444952\n",
       "2    0.463531\n",
       "3    0.779595\n",
       "4    0.263553\n",
       "5    0.190816\n",
       "6    0.473028\n",
       "7    0.494478\n",
       "8    0.438616\n",
       "9    0.417614\n",
       "dtype: float64"
      ]
     },
     "execution_count": 21,
     "metadata": {},
     "output_type": "execute_result"
    }
   ],
   "source": [
    "ser"
   ]
  },
  {
   "cell_type": "code",
   "execution_count": 22,
   "id": "junior-recommendation",
   "metadata": {},
   "outputs": [
    {
     "data": {
      "text/plain": [
       "pandas.core.series.Series"
      ]
     },
     "execution_count": 22,
     "metadata": {},
     "output_type": "execute_result"
    }
   ],
   "source": [
    "type(ser)"
   ]
  },
  {
   "cell_type": "code",
   "execution_count": 23,
   "id": "driven-makeup",
   "metadata": {},
   "outputs": [],
   "source": [
    "newdf=pd.DataFrame(np.random.rand(335,5),index=np.arange(335))"
   ]
  },
  {
   "cell_type": "code",
   "execution_count": 24,
   "id": "understanding-globe",
   "metadata": {},
   "outputs": [
    {
     "data": {
      "text/html": [
       "<div>\n",
       "<style scoped>\n",
       "    .dataframe tbody tr th:only-of-type {\n",
       "        vertical-align: middle;\n",
       "    }\n",
       "\n",
       "    .dataframe tbody tr th {\n",
       "        vertical-align: top;\n",
       "    }\n",
       "\n",
       "    .dataframe thead th {\n",
       "        text-align: right;\n",
       "    }\n",
       "</style>\n",
       "<table border=\"1\" class=\"dataframe\">\n",
       "  <thead>\n",
       "    <tr style=\"text-align: right;\">\n",
       "      <th></th>\n",
       "      <th>0</th>\n",
       "      <th>1</th>\n",
       "      <th>2</th>\n",
       "      <th>3</th>\n",
       "      <th>4</th>\n",
       "    </tr>\n",
       "  </thead>\n",
       "  <tbody>\n",
       "    <tr>\n",
       "      <th>0</th>\n",
       "      <td>0.127541</td>\n",
       "      <td>0.652214</td>\n",
       "      <td>0.720731</td>\n",
       "      <td>0.630563</td>\n",
       "      <td>0.650787</td>\n",
       "    </tr>\n",
       "    <tr>\n",
       "      <th>1</th>\n",
       "      <td>0.963910</td>\n",
       "      <td>0.003871</td>\n",
       "      <td>0.057987</td>\n",
       "      <td>0.780678</td>\n",
       "      <td>0.980098</td>\n",
       "    </tr>\n",
       "    <tr>\n",
       "      <th>2</th>\n",
       "      <td>0.033425</td>\n",
       "      <td>0.227662</td>\n",
       "      <td>0.187853</td>\n",
       "      <td>0.236797</td>\n",
       "      <td>0.155204</td>\n",
       "    </tr>\n",
       "    <tr>\n",
       "      <th>3</th>\n",
       "      <td>0.977362</td>\n",
       "      <td>0.165107</td>\n",
       "      <td>0.212846</td>\n",
       "      <td>0.464708</td>\n",
       "      <td>0.831627</td>\n",
       "    </tr>\n",
       "    <tr>\n",
       "      <th>4</th>\n",
       "      <td>0.939763</td>\n",
       "      <td>0.184261</td>\n",
       "      <td>0.331653</td>\n",
       "      <td>0.528041</td>\n",
       "      <td>0.876577</td>\n",
       "    </tr>\n",
       "    <tr>\n",
       "      <th>...</th>\n",
       "      <td>...</td>\n",
       "      <td>...</td>\n",
       "      <td>...</td>\n",
       "      <td>...</td>\n",
       "      <td>...</td>\n",
       "    </tr>\n",
       "    <tr>\n",
       "      <th>330</th>\n",
       "      <td>0.981463</td>\n",
       "      <td>0.562064</td>\n",
       "      <td>0.678054</td>\n",
       "      <td>0.123620</td>\n",
       "      <td>0.339796</td>\n",
       "    </tr>\n",
       "    <tr>\n",
       "      <th>331</th>\n",
       "      <td>0.873695</td>\n",
       "      <td>0.198069</td>\n",
       "      <td>0.125585</td>\n",
       "      <td>0.693027</td>\n",
       "      <td>0.972645</td>\n",
       "    </tr>\n",
       "    <tr>\n",
       "      <th>332</th>\n",
       "      <td>0.570017</td>\n",
       "      <td>0.064618</td>\n",
       "      <td>0.401923</td>\n",
       "      <td>0.964643</td>\n",
       "      <td>0.453933</td>\n",
       "    </tr>\n",
       "    <tr>\n",
       "      <th>333</th>\n",
       "      <td>0.039209</td>\n",
       "      <td>0.881414</td>\n",
       "      <td>0.774347</td>\n",
       "      <td>0.273003</td>\n",
       "      <td>0.769068</td>\n",
       "    </tr>\n",
       "    <tr>\n",
       "      <th>334</th>\n",
       "      <td>0.564874</td>\n",
       "      <td>0.426052</td>\n",
       "      <td>0.172287</td>\n",
       "      <td>0.487250</td>\n",
       "      <td>0.697206</td>\n",
       "    </tr>\n",
       "  </tbody>\n",
       "</table>\n",
       "<p>335 rows × 5 columns</p>\n",
       "</div>"
      ],
      "text/plain": [
       "            0         1         2         3         4\n",
       "0    0.127541  0.652214  0.720731  0.630563  0.650787\n",
       "1    0.963910  0.003871  0.057987  0.780678  0.980098\n",
       "2    0.033425  0.227662  0.187853  0.236797  0.155204\n",
       "3    0.977362  0.165107  0.212846  0.464708  0.831627\n",
       "4    0.939763  0.184261  0.331653  0.528041  0.876577\n",
       "..        ...       ...       ...       ...       ...\n",
       "330  0.981463  0.562064  0.678054  0.123620  0.339796\n",
       "331  0.873695  0.198069  0.125585  0.693027  0.972645\n",
       "332  0.570017  0.064618  0.401923  0.964643  0.453933\n",
       "333  0.039209  0.881414  0.774347  0.273003  0.769068\n",
       "334  0.564874  0.426052  0.172287  0.487250  0.697206\n",
       "\n",
       "[335 rows x 5 columns]"
      ]
     },
     "execution_count": 24,
     "metadata": {},
     "output_type": "execute_result"
    }
   ],
   "source": [
    "newdf"
   ]
  },
  {
   "cell_type": "code",
   "execution_count": 25,
   "id": "approved-thing",
   "metadata": {},
   "outputs": [
    {
     "data": {
      "text/html": [
       "<div>\n",
       "<style scoped>\n",
       "    .dataframe tbody tr th:only-of-type {\n",
       "        vertical-align: middle;\n",
       "    }\n",
       "\n",
       "    .dataframe tbody tr th {\n",
       "        vertical-align: top;\n",
       "    }\n",
       "\n",
       "    .dataframe thead th {\n",
       "        text-align: right;\n",
       "    }\n",
       "</style>\n",
       "<table border=\"1\" class=\"dataframe\">\n",
       "  <thead>\n",
       "    <tr style=\"text-align: right;\">\n",
       "      <th></th>\n",
       "      <th>0</th>\n",
       "      <th>1</th>\n",
       "      <th>2</th>\n",
       "      <th>3</th>\n",
       "      <th>4</th>\n",
       "    </tr>\n",
       "  </thead>\n",
       "  <tbody>\n",
       "    <tr>\n",
       "      <th>0</th>\n",
       "      <td>0.127541</td>\n",
       "      <td>0.652214</td>\n",
       "      <td>0.720731</td>\n",
       "      <td>0.630563</td>\n",
       "      <td>0.650787</td>\n",
       "    </tr>\n",
       "    <tr>\n",
       "      <th>1</th>\n",
       "      <td>0.963910</td>\n",
       "      <td>0.003871</td>\n",
       "      <td>0.057987</td>\n",
       "      <td>0.780678</td>\n",
       "      <td>0.980098</td>\n",
       "    </tr>\n",
       "    <tr>\n",
       "      <th>2</th>\n",
       "      <td>0.033425</td>\n",
       "      <td>0.227662</td>\n",
       "      <td>0.187853</td>\n",
       "      <td>0.236797</td>\n",
       "      <td>0.155204</td>\n",
       "    </tr>\n",
       "    <tr>\n",
       "      <th>3</th>\n",
       "      <td>0.977362</td>\n",
       "      <td>0.165107</td>\n",
       "      <td>0.212846</td>\n",
       "      <td>0.464708</td>\n",
       "      <td>0.831627</td>\n",
       "    </tr>\n",
       "    <tr>\n",
       "      <th>4</th>\n",
       "      <td>0.939763</td>\n",
       "      <td>0.184261</td>\n",
       "      <td>0.331653</td>\n",
       "      <td>0.528041</td>\n",
       "      <td>0.876577</td>\n",
       "    </tr>\n",
       "  </tbody>\n",
       "</table>\n",
       "</div>"
      ],
      "text/plain": [
       "          0         1         2         3         4\n",
       "0  0.127541  0.652214  0.720731  0.630563  0.650787\n",
       "1  0.963910  0.003871  0.057987  0.780678  0.980098\n",
       "2  0.033425  0.227662  0.187853  0.236797  0.155204\n",
       "3  0.977362  0.165107  0.212846  0.464708  0.831627\n",
       "4  0.939763  0.184261  0.331653  0.528041  0.876577"
      ]
     },
     "execution_count": 25,
     "metadata": {},
     "output_type": "execute_result"
    }
   ],
   "source": [
    "newdf.head()"
   ]
  },
  {
   "cell_type": "code",
   "execution_count": 26,
   "id": "tracked-relative",
   "metadata": {},
   "outputs": [
    {
     "data": {
      "text/html": [
       "<div>\n",
       "<style scoped>\n",
       "    .dataframe tbody tr th:only-of-type {\n",
       "        vertical-align: middle;\n",
       "    }\n",
       "\n",
       "    .dataframe tbody tr th {\n",
       "        vertical-align: top;\n",
       "    }\n",
       "\n",
       "    .dataframe thead th {\n",
       "        text-align: right;\n",
       "    }\n",
       "</style>\n",
       "<table border=\"1\" class=\"dataframe\">\n",
       "  <thead>\n",
       "    <tr style=\"text-align: right;\">\n",
       "      <th></th>\n",
       "      <th>0</th>\n",
       "      <th>1</th>\n",
       "      <th>2</th>\n",
       "      <th>3</th>\n",
       "      <th>4</th>\n",
       "    </tr>\n",
       "  </thead>\n",
       "  <tbody>\n",
       "    <tr>\n",
       "      <th>330</th>\n",
       "      <td>0.981463</td>\n",
       "      <td>0.562064</td>\n",
       "      <td>0.678054</td>\n",
       "      <td>0.123620</td>\n",
       "      <td>0.339796</td>\n",
       "    </tr>\n",
       "    <tr>\n",
       "      <th>331</th>\n",
       "      <td>0.873695</td>\n",
       "      <td>0.198069</td>\n",
       "      <td>0.125585</td>\n",
       "      <td>0.693027</td>\n",
       "      <td>0.972645</td>\n",
       "    </tr>\n",
       "    <tr>\n",
       "      <th>332</th>\n",
       "      <td>0.570017</td>\n",
       "      <td>0.064618</td>\n",
       "      <td>0.401923</td>\n",
       "      <td>0.964643</td>\n",
       "      <td>0.453933</td>\n",
       "    </tr>\n",
       "    <tr>\n",
       "      <th>333</th>\n",
       "      <td>0.039209</td>\n",
       "      <td>0.881414</td>\n",
       "      <td>0.774347</td>\n",
       "      <td>0.273003</td>\n",
       "      <td>0.769068</td>\n",
       "    </tr>\n",
       "    <tr>\n",
       "      <th>334</th>\n",
       "      <td>0.564874</td>\n",
       "      <td>0.426052</td>\n",
       "      <td>0.172287</td>\n",
       "      <td>0.487250</td>\n",
       "      <td>0.697206</td>\n",
       "    </tr>\n",
       "  </tbody>\n",
       "</table>\n",
       "</div>"
      ],
      "text/plain": [
       "            0         1         2         3         4\n",
       "330  0.981463  0.562064  0.678054  0.123620  0.339796\n",
       "331  0.873695  0.198069  0.125585  0.693027  0.972645\n",
       "332  0.570017  0.064618  0.401923  0.964643  0.453933\n",
       "333  0.039209  0.881414  0.774347  0.273003  0.769068\n",
       "334  0.564874  0.426052  0.172287  0.487250  0.697206"
      ]
     },
     "execution_count": 26,
     "metadata": {},
     "output_type": "execute_result"
    }
   ],
   "source": [
    "newdf.tail()"
   ]
  },
  {
   "cell_type": "code",
   "execution_count": 27,
   "id": "general-hindu",
   "metadata": {},
   "outputs": [
    {
     "data": {
      "text/plain": [
       "Int64Index([  0,   1,   2,   3,   4,   5,   6,   7,   8,   9,\n",
       "            ...\n",
       "            325, 326, 327, 328, 329, 330, 331, 332, 333, 334],\n",
       "           dtype='int64', length=335)"
      ]
     },
     "execution_count": 27,
     "metadata": {},
     "output_type": "execute_result"
    }
   ],
   "source": [
    "newdf.index"
   ]
  },
  {
   "cell_type": "code",
   "execution_count": 28,
   "id": "amino-helen",
   "metadata": {},
   "outputs": [
    {
     "data": {
      "text/plain": [
       "RangeIndex(start=0, stop=5, step=1)"
      ]
     },
     "execution_count": 28,
     "metadata": {},
     "output_type": "execute_result"
    }
   ],
   "source": [
    "newdf.columns"
   ]
  },
  {
   "cell_type": "code",
   "execution_count": 29,
   "id": "noble-sheffield",
   "metadata": {},
   "outputs": [
    {
     "data": {
      "text/html": [
       "<div>\n",
       "<style scoped>\n",
       "    .dataframe tbody tr th:only-of-type {\n",
       "        vertical-align: middle;\n",
       "    }\n",
       "\n",
       "    .dataframe tbody tr th {\n",
       "        vertical-align: top;\n",
       "    }\n",
       "\n",
       "    .dataframe thead th {\n",
       "        text-align: right;\n",
       "    }\n",
       "</style>\n",
       "<table border=\"1\" class=\"dataframe\">\n",
       "  <thead>\n",
       "    <tr style=\"text-align: right;\">\n",
       "      <th></th>\n",
       "      <th>0</th>\n",
       "      <th>1</th>\n",
       "      <th>2</th>\n",
       "      <th>3</th>\n",
       "      <th>4</th>\n",
       "    </tr>\n",
       "  </thead>\n",
       "  <tbody>\n",
       "    <tr>\n",
       "      <th>count</th>\n",
       "      <td>335.000000</td>\n",
       "      <td>335.000000</td>\n",
       "      <td>335.000000</td>\n",
       "      <td>335.000000</td>\n",
       "      <td>335.000000</td>\n",
       "    </tr>\n",
       "    <tr>\n",
       "      <th>mean</th>\n",
       "      <td>0.494228</td>\n",
       "      <td>0.494803</td>\n",
       "      <td>0.503271</td>\n",
       "      <td>0.487285</td>\n",
       "      <td>0.514254</td>\n",
       "    </tr>\n",
       "    <tr>\n",
       "      <th>std</th>\n",
       "      <td>0.277773</td>\n",
       "      <td>0.277361</td>\n",
       "      <td>0.278857</td>\n",
       "      <td>0.280031</td>\n",
       "      <td>0.284748</td>\n",
       "    </tr>\n",
       "    <tr>\n",
       "      <th>min</th>\n",
       "      <td>0.005104</td>\n",
       "      <td>0.003859</td>\n",
       "      <td>0.003806</td>\n",
       "      <td>0.003677</td>\n",
       "      <td>0.003204</td>\n",
       "    </tr>\n",
       "    <tr>\n",
       "      <th>25%</th>\n",
       "      <td>0.247878</td>\n",
       "      <td>0.244155</td>\n",
       "      <td>0.263309</td>\n",
       "      <td>0.250929</td>\n",
       "      <td>0.284999</td>\n",
       "    </tr>\n",
       "    <tr>\n",
       "      <th>50%</th>\n",
       "      <td>0.495802</td>\n",
       "      <td>0.519520</td>\n",
       "      <td>0.493911</td>\n",
       "      <td>0.487250</td>\n",
       "      <td>0.528225</td>\n",
       "    </tr>\n",
       "    <tr>\n",
       "      <th>75%</th>\n",
       "      <td>0.708448</td>\n",
       "      <td>0.736437</td>\n",
       "      <td>0.724439</td>\n",
       "      <td>0.697444</td>\n",
       "      <td>0.764603</td>\n",
       "    </tr>\n",
       "    <tr>\n",
       "      <th>max</th>\n",
       "      <td>0.999539</td>\n",
       "      <td>0.983975</td>\n",
       "      <td>0.999673</td>\n",
       "      <td>0.996913</td>\n",
       "      <td>0.998149</td>\n",
       "    </tr>\n",
       "  </tbody>\n",
       "</table>\n",
       "</div>"
      ],
      "text/plain": [
       "                0           1           2           3           4\n",
       "count  335.000000  335.000000  335.000000  335.000000  335.000000\n",
       "mean     0.494228    0.494803    0.503271    0.487285    0.514254\n",
       "std      0.277773    0.277361    0.278857    0.280031    0.284748\n",
       "min      0.005104    0.003859    0.003806    0.003677    0.003204\n",
       "25%      0.247878    0.244155    0.263309    0.250929    0.284999\n",
       "50%      0.495802    0.519520    0.493911    0.487250    0.528225\n",
       "75%      0.708448    0.736437    0.724439    0.697444    0.764603\n",
       "max      0.999539    0.983975    0.999673    0.996913    0.998149"
      ]
     },
     "execution_count": 29,
     "metadata": {},
     "output_type": "execute_result"
    }
   ],
   "source": [
    "newdf.describe()\n"
   ]
  },
  {
   "cell_type": "code",
   "execution_count": 30,
   "id": "billion-cincinnati",
   "metadata": {},
   "outputs": [
    {
     "data": {
      "text/plain": [
       "array([[0.12754134, 0.65221418, 0.72073119, 0.63056283, 0.65078671],\n",
       "       [0.96390964, 0.00387106, 0.05798707, 0.78067765, 0.98009771],\n",
       "       [0.03342493, 0.22766151, 0.18785295, 0.23679701, 0.15520402],\n",
       "       ...,\n",
       "       [0.57001748, 0.06461825, 0.4019233 , 0.96464254, 0.45393277],\n",
       "       [0.03920865, 0.88141355, 0.77434713, 0.27300256, 0.76906816],\n",
       "       [0.56487383, 0.42605222, 0.17228691, 0.4872502 , 0.6972062 ]])"
      ]
     },
     "execution_count": 30,
     "metadata": {},
     "output_type": "execute_result"
    }
   ],
   "source": [
    "newdf.to_numpy()"
   ]
  },
  {
   "cell_type": "code",
   "execution_count": 31,
   "id": "critical-border",
   "metadata": {},
   "outputs": [
    {
     "data": {
      "text/html": [
       "<div>\n",
       "<style scoped>\n",
       "    .dataframe tbody tr th:only-of-type {\n",
       "        vertical-align: middle;\n",
       "    }\n",
       "\n",
       "    .dataframe tbody tr th {\n",
       "        vertical-align: top;\n",
       "    }\n",
       "\n",
       "    .dataframe thead th {\n",
       "        text-align: right;\n",
       "    }\n",
       "</style>\n",
       "<table border=\"1\" class=\"dataframe\">\n",
       "  <thead>\n",
       "    <tr style=\"text-align: right;\">\n",
       "      <th></th>\n",
       "      <th>0</th>\n",
       "      <th>1</th>\n",
       "      <th>2</th>\n",
       "      <th>3</th>\n",
       "      <th>4</th>\n",
       "    </tr>\n",
       "  </thead>\n",
       "  <tbody>\n",
       "    <tr>\n",
       "      <th>334</th>\n",
       "      <td>0.564874</td>\n",
       "      <td>0.426052</td>\n",
       "      <td>0.172287</td>\n",
       "      <td>0.487250</td>\n",
       "      <td>0.697206</td>\n",
       "    </tr>\n",
       "    <tr>\n",
       "      <th>333</th>\n",
       "      <td>0.039209</td>\n",
       "      <td>0.881414</td>\n",
       "      <td>0.774347</td>\n",
       "      <td>0.273003</td>\n",
       "      <td>0.769068</td>\n",
       "    </tr>\n",
       "    <tr>\n",
       "      <th>332</th>\n",
       "      <td>0.570017</td>\n",
       "      <td>0.064618</td>\n",
       "      <td>0.401923</td>\n",
       "      <td>0.964643</td>\n",
       "      <td>0.453933</td>\n",
       "    </tr>\n",
       "    <tr>\n",
       "      <th>331</th>\n",
       "      <td>0.873695</td>\n",
       "      <td>0.198069</td>\n",
       "      <td>0.125585</td>\n",
       "      <td>0.693027</td>\n",
       "      <td>0.972645</td>\n",
       "    </tr>\n",
       "    <tr>\n",
       "      <th>330</th>\n",
       "      <td>0.981463</td>\n",
       "      <td>0.562064</td>\n",
       "      <td>0.678054</td>\n",
       "      <td>0.123620</td>\n",
       "      <td>0.339796</td>\n",
       "    </tr>\n",
       "    <tr>\n",
       "      <th>...</th>\n",
       "      <td>...</td>\n",
       "      <td>...</td>\n",
       "      <td>...</td>\n",
       "      <td>...</td>\n",
       "      <td>...</td>\n",
       "    </tr>\n",
       "    <tr>\n",
       "      <th>4</th>\n",
       "      <td>0.939763</td>\n",
       "      <td>0.184261</td>\n",
       "      <td>0.331653</td>\n",
       "      <td>0.528041</td>\n",
       "      <td>0.876577</td>\n",
       "    </tr>\n",
       "    <tr>\n",
       "      <th>3</th>\n",
       "      <td>0.977362</td>\n",
       "      <td>0.165107</td>\n",
       "      <td>0.212846</td>\n",
       "      <td>0.464708</td>\n",
       "      <td>0.831627</td>\n",
       "    </tr>\n",
       "    <tr>\n",
       "      <th>2</th>\n",
       "      <td>0.033425</td>\n",
       "      <td>0.227662</td>\n",
       "      <td>0.187853</td>\n",
       "      <td>0.236797</td>\n",
       "      <td>0.155204</td>\n",
       "    </tr>\n",
       "    <tr>\n",
       "      <th>1</th>\n",
       "      <td>0.963910</td>\n",
       "      <td>0.003871</td>\n",
       "      <td>0.057987</td>\n",
       "      <td>0.780678</td>\n",
       "      <td>0.980098</td>\n",
       "    </tr>\n",
       "    <tr>\n",
       "      <th>0</th>\n",
       "      <td>0.127541</td>\n",
       "      <td>0.652214</td>\n",
       "      <td>0.720731</td>\n",
       "      <td>0.630563</td>\n",
       "      <td>0.650787</td>\n",
       "    </tr>\n",
       "  </tbody>\n",
       "</table>\n",
       "<p>335 rows × 5 columns</p>\n",
       "</div>"
      ],
      "text/plain": [
       "            0         1         2         3         4\n",
       "334  0.564874  0.426052  0.172287  0.487250  0.697206\n",
       "333  0.039209  0.881414  0.774347  0.273003  0.769068\n",
       "332  0.570017  0.064618  0.401923  0.964643  0.453933\n",
       "331  0.873695  0.198069  0.125585  0.693027  0.972645\n",
       "330  0.981463  0.562064  0.678054  0.123620  0.339796\n",
       "..        ...       ...       ...       ...       ...\n",
       "4    0.939763  0.184261  0.331653  0.528041  0.876577\n",
       "3    0.977362  0.165107  0.212846  0.464708  0.831627\n",
       "2    0.033425  0.227662  0.187853  0.236797  0.155204\n",
       "1    0.963910  0.003871  0.057987  0.780678  0.980098\n",
       "0    0.127541  0.652214  0.720731  0.630563  0.650787\n",
       "\n",
       "[335 rows x 5 columns]"
      ]
     },
     "execution_count": 31,
     "metadata": {},
     "output_type": "execute_result"
    }
   ],
   "source": [
    "newdf.sort_index(axis=0,ascending=False) #row_sortng"
   ]
  },
  {
   "cell_type": "code",
   "execution_count": 32,
   "id": "twelve-receptor",
   "metadata": {},
   "outputs": [
    {
     "data": {
      "text/html": [
       "<div>\n",
       "<style scoped>\n",
       "    .dataframe tbody tr th:only-of-type {\n",
       "        vertical-align: middle;\n",
       "    }\n",
       "\n",
       "    .dataframe tbody tr th {\n",
       "        vertical-align: top;\n",
       "    }\n",
       "\n",
       "    .dataframe thead th {\n",
       "        text-align: right;\n",
       "    }\n",
       "</style>\n",
       "<table border=\"1\" class=\"dataframe\">\n",
       "  <thead>\n",
       "    <tr style=\"text-align: right;\">\n",
       "      <th></th>\n",
       "      <th>4</th>\n",
       "      <th>3</th>\n",
       "      <th>2</th>\n",
       "      <th>1</th>\n",
       "      <th>0</th>\n",
       "    </tr>\n",
       "  </thead>\n",
       "  <tbody>\n",
       "    <tr>\n",
       "      <th>0</th>\n",
       "      <td>0.650787</td>\n",
       "      <td>0.630563</td>\n",
       "      <td>0.720731</td>\n",
       "      <td>0.652214</td>\n",
       "      <td>0.127541</td>\n",
       "    </tr>\n",
       "    <tr>\n",
       "      <th>1</th>\n",
       "      <td>0.980098</td>\n",
       "      <td>0.780678</td>\n",
       "      <td>0.057987</td>\n",
       "      <td>0.003871</td>\n",
       "      <td>0.963910</td>\n",
       "    </tr>\n",
       "    <tr>\n",
       "      <th>2</th>\n",
       "      <td>0.155204</td>\n",
       "      <td>0.236797</td>\n",
       "      <td>0.187853</td>\n",
       "      <td>0.227662</td>\n",
       "      <td>0.033425</td>\n",
       "    </tr>\n",
       "    <tr>\n",
       "      <th>3</th>\n",
       "      <td>0.831627</td>\n",
       "      <td>0.464708</td>\n",
       "      <td>0.212846</td>\n",
       "      <td>0.165107</td>\n",
       "      <td>0.977362</td>\n",
       "    </tr>\n",
       "    <tr>\n",
       "      <th>4</th>\n",
       "      <td>0.876577</td>\n",
       "      <td>0.528041</td>\n",
       "      <td>0.331653</td>\n",
       "      <td>0.184261</td>\n",
       "      <td>0.939763</td>\n",
       "    </tr>\n",
       "    <tr>\n",
       "      <th>...</th>\n",
       "      <td>...</td>\n",
       "      <td>...</td>\n",
       "      <td>...</td>\n",
       "      <td>...</td>\n",
       "      <td>...</td>\n",
       "    </tr>\n",
       "    <tr>\n",
       "      <th>330</th>\n",
       "      <td>0.339796</td>\n",
       "      <td>0.123620</td>\n",
       "      <td>0.678054</td>\n",
       "      <td>0.562064</td>\n",
       "      <td>0.981463</td>\n",
       "    </tr>\n",
       "    <tr>\n",
       "      <th>331</th>\n",
       "      <td>0.972645</td>\n",
       "      <td>0.693027</td>\n",
       "      <td>0.125585</td>\n",
       "      <td>0.198069</td>\n",
       "      <td>0.873695</td>\n",
       "    </tr>\n",
       "    <tr>\n",
       "      <th>332</th>\n",
       "      <td>0.453933</td>\n",
       "      <td>0.964643</td>\n",
       "      <td>0.401923</td>\n",
       "      <td>0.064618</td>\n",
       "      <td>0.570017</td>\n",
       "    </tr>\n",
       "    <tr>\n",
       "      <th>333</th>\n",
       "      <td>0.769068</td>\n",
       "      <td>0.273003</td>\n",
       "      <td>0.774347</td>\n",
       "      <td>0.881414</td>\n",
       "      <td>0.039209</td>\n",
       "    </tr>\n",
       "    <tr>\n",
       "      <th>334</th>\n",
       "      <td>0.697206</td>\n",
       "      <td>0.487250</td>\n",
       "      <td>0.172287</td>\n",
       "      <td>0.426052</td>\n",
       "      <td>0.564874</td>\n",
       "    </tr>\n",
       "  </tbody>\n",
       "</table>\n",
       "<p>335 rows × 5 columns</p>\n",
       "</div>"
      ],
      "text/plain": [
       "            4         3         2         1         0\n",
       "0    0.650787  0.630563  0.720731  0.652214  0.127541\n",
       "1    0.980098  0.780678  0.057987  0.003871  0.963910\n",
       "2    0.155204  0.236797  0.187853  0.227662  0.033425\n",
       "3    0.831627  0.464708  0.212846  0.165107  0.977362\n",
       "4    0.876577  0.528041  0.331653  0.184261  0.939763\n",
       "..        ...       ...       ...       ...       ...\n",
       "330  0.339796  0.123620  0.678054  0.562064  0.981463\n",
       "331  0.972645  0.693027  0.125585  0.198069  0.873695\n",
       "332  0.453933  0.964643  0.401923  0.064618  0.570017\n",
       "333  0.769068  0.273003  0.774347  0.881414  0.039209\n",
       "334  0.697206  0.487250  0.172287  0.426052  0.564874\n",
       "\n",
       "[335 rows x 5 columns]"
      ]
     },
     "execution_count": 32,
     "metadata": {},
     "output_type": "execute_result"
    }
   ],
   "source": [
    "newdf.sort_index(axis=1,ascending=False) #columns_sorting"
   ]
  },
  {
   "cell_type": "code",
   "execution_count": 33,
   "id": "material-think",
   "metadata": {},
   "outputs": [
    {
     "data": {
      "text/plain": [
       "0      0.127541\n",
       "1      0.963910\n",
       "2      0.033425\n",
       "3      0.977362\n",
       "4      0.939763\n",
       "         ...   \n",
       "330    0.981463\n",
       "331    0.873695\n",
       "332    0.570017\n",
       "333    0.039209\n",
       "334    0.564874\n",
       "Name: 0, Length: 335, dtype: float64"
      ]
     },
     "execution_count": 33,
     "metadata": {},
     "output_type": "execute_result"
    }
   ],
   "source": [
    "newdf[0]"
   ]
  },
  {
   "cell_type": "code",
   "execution_count": 34,
   "id": "facial-lodge",
   "metadata": {},
   "outputs": [
    {
     "data": {
      "text/plain": [
       "pandas.core.series.Series"
      ]
     },
     "execution_count": 34,
     "metadata": {},
     "output_type": "execute_result"
    }
   ],
   "source": [
    "type(newdf[0])"
   ]
  },
  {
   "cell_type": "code",
   "execution_count": 35,
   "id": "elect-duncan",
   "metadata": {},
   "outputs": [],
   "source": [
    "newdf.loc[0,0]=567  #no"
   ]
  },
  {
   "cell_type": "code",
   "execution_count": 36,
   "id": "bottom-metadata",
   "metadata": {},
   "outputs": [
    {
     "data": {
      "text/html": [
       "<div>\n",
       "<style scoped>\n",
       "    .dataframe tbody tr th:only-of-type {\n",
       "        vertical-align: middle;\n",
       "    }\n",
       "\n",
       "    .dataframe tbody tr th {\n",
       "        vertical-align: top;\n",
       "    }\n",
       "\n",
       "    .dataframe thead th {\n",
       "        text-align: right;\n",
       "    }\n",
       "</style>\n",
       "<table border=\"1\" class=\"dataframe\">\n",
       "  <thead>\n",
       "    <tr style=\"text-align: right;\">\n",
       "      <th></th>\n",
       "      <th>0</th>\n",
       "      <th>1</th>\n",
       "      <th>2</th>\n",
       "      <th>3</th>\n",
       "      <th>4</th>\n",
       "    </tr>\n",
       "  </thead>\n",
       "  <tbody>\n",
       "    <tr>\n",
       "      <th>0</th>\n",
       "      <td>567.000000</td>\n",
       "      <td>0.652214</td>\n",
       "      <td>0.720731</td>\n",
       "      <td>0.630563</td>\n",
       "      <td>0.650787</td>\n",
       "    </tr>\n",
       "    <tr>\n",
       "      <th>1</th>\n",
       "      <td>0.963910</td>\n",
       "      <td>0.003871</td>\n",
       "      <td>0.057987</td>\n",
       "      <td>0.780678</td>\n",
       "      <td>0.980098</td>\n",
       "    </tr>\n",
       "    <tr>\n",
       "      <th>2</th>\n",
       "      <td>0.033425</td>\n",
       "      <td>0.227662</td>\n",
       "      <td>0.187853</td>\n",
       "      <td>0.236797</td>\n",
       "      <td>0.155204</td>\n",
       "    </tr>\n",
       "    <tr>\n",
       "      <th>3</th>\n",
       "      <td>0.977362</td>\n",
       "      <td>0.165107</td>\n",
       "      <td>0.212846</td>\n",
       "      <td>0.464708</td>\n",
       "      <td>0.831627</td>\n",
       "    </tr>\n",
       "    <tr>\n",
       "      <th>4</th>\n",
       "      <td>0.939763</td>\n",
       "      <td>0.184261</td>\n",
       "      <td>0.331653</td>\n",
       "      <td>0.528041</td>\n",
       "      <td>0.876577</td>\n",
       "    </tr>\n",
       "    <tr>\n",
       "      <th>...</th>\n",
       "      <td>...</td>\n",
       "      <td>...</td>\n",
       "      <td>...</td>\n",
       "      <td>...</td>\n",
       "      <td>...</td>\n",
       "    </tr>\n",
       "    <tr>\n",
       "      <th>330</th>\n",
       "      <td>0.981463</td>\n",
       "      <td>0.562064</td>\n",
       "      <td>0.678054</td>\n",
       "      <td>0.123620</td>\n",
       "      <td>0.339796</td>\n",
       "    </tr>\n",
       "    <tr>\n",
       "      <th>331</th>\n",
       "      <td>0.873695</td>\n",
       "      <td>0.198069</td>\n",
       "      <td>0.125585</td>\n",
       "      <td>0.693027</td>\n",
       "      <td>0.972645</td>\n",
       "    </tr>\n",
       "    <tr>\n",
       "      <th>332</th>\n",
       "      <td>0.570017</td>\n",
       "      <td>0.064618</td>\n",
       "      <td>0.401923</td>\n",
       "      <td>0.964643</td>\n",
       "      <td>0.453933</td>\n",
       "    </tr>\n",
       "    <tr>\n",
       "      <th>333</th>\n",
       "      <td>0.039209</td>\n",
       "      <td>0.881414</td>\n",
       "      <td>0.774347</td>\n",
       "      <td>0.273003</td>\n",
       "      <td>0.769068</td>\n",
       "    </tr>\n",
       "    <tr>\n",
       "      <th>334</th>\n",
       "      <td>0.564874</td>\n",
       "      <td>0.426052</td>\n",
       "      <td>0.172287</td>\n",
       "      <td>0.487250</td>\n",
       "      <td>0.697206</td>\n",
       "    </tr>\n",
       "  </tbody>\n",
       "</table>\n",
       "<p>335 rows × 5 columns</p>\n",
       "</div>"
      ],
      "text/plain": [
       "              0         1         2         3         4\n",
       "0    567.000000  0.652214  0.720731  0.630563  0.650787\n",
       "1      0.963910  0.003871  0.057987  0.780678  0.980098\n",
       "2      0.033425  0.227662  0.187853  0.236797  0.155204\n",
       "3      0.977362  0.165107  0.212846  0.464708  0.831627\n",
       "4      0.939763  0.184261  0.331653  0.528041  0.876577\n",
       "..          ...       ...       ...       ...       ...\n",
       "330    0.981463  0.562064  0.678054  0.123620  0.339796\n",
       "331    0.873695  0.198069  0.125585  0.693027  0.972645\n",
       "332    0.570017  0.064618  0.401923  0.964643  0.453933\n",
       "333    0.039209  0.881414  0.774347  0.273003  0.769068\n",
       "334    0.564874  0.426052  0.172287  0.487250  0.697206\n",
       "\n",
       "[335 rows x 5 columns]"
      ]
     },
     "execution_count": 36,
     "metadata": {},
     "output_type": "execute_result"
    }
   ],
   "source": [
    "newdf #no"
   ]
  },
  {
   "cell_type": "code",
   "execution_count": 37,
   "id": "photographic-legend",
   "metadata": {},
   "outputs": [
    {
     "data": {
      "text/html": [
       "<div>\n",
       "<style scoped>\n",
       "    .dataframe tbody tr th:only-of-type {\n",
       "        vertical-align: middle;\n",
       "    }\n",
       "\n",
       "    .dataframe tbody tr th {\n",
       "        vertical-align: top;\n",
       "    }\n",
       "\n",
       "    .dataframe thead th {\n",
       "        text-align: right;\n",
       "    }\n",
       "</style>\n",
       "<table border=\"1\" class=\"dataframe\">\n",
       "  <thead>\n",
       "    <tr style=\"text-align: right;\">\n",
       "      <th></th>\n",
       "      <th>0</th>\n",
       "      <th>1</th>\n",
       "      <th>2</th>\n",
       "      <th>3</th>\n",
       "      <th>4</th>\n",
       "    </tr>\n",
       "  </thead>\n",
       "  <tbody>\n",
       "    <tr>\n",
       "      <th>0</th>\n",
       "      <td>567.000000</td>\n",
       "      <td>0.652214</td>\n",
       "      <td>0.720731</td>\n",
       "      <td>0.630563</td>\n",
       "      <td>0.650787</td>\n",
       "    </tr>\n",
       "    <tr>\n",
       "      <th>1</th>\n",
       "      <td>0.963910</td>\n",
       "      <td>0.003871</td>\n",
       "      <td>0.057987</td>\n",
       "      <td>0.780678</td>\n",
       "      <td>0.980098</td>\n",
       "    </tr>\n",
       "    <tr>\n",
       "      <th>2</th>\n",
       "      <td>0.033425</td>\n",
       "      <td>0.227662</td>\n",
       "      <td>0.187853</td>\n",
       "      <td>0.236797</td>\n",
       "      <td>0.155204</td>\n",
       "    </tr>\n",
       "  </tbody>\n",
       "</table>\n",
       "</div>"
      ],
      "text/plain": [
       "            0         1         2         3         4\n",
       "0  567.000000  0.652214  0.720731  0.630563  0.650787\n",
       "1    0.963910  0.003871  0.057987  0.780678  0.980098\n",
       "2    0.033425  0.227662  0.187853  0.236797  0.155204"
      ]
     },
     "execution_count": 37,
     "metadata": {},
     "output_type": "execute_result"
    }
   ],
   "source": [
    "newdf.head(3) "
   ]
  },
  {
   "cell_type": "code",
   "execution_count": 38,
   "id": "liberal-cambridge",
   "metadata": {},
   "outputs": [],
   "source": [
    "newdf.columns=[\"a\",\"b\",\"c\",\"d\",\"e\"]  #newdf.columns=list(\"abcde\") will also work"
   ]
  },
  {
   "cell_type": "code",
   "execution_count": 39,
   "id": "prerequisite-example",
   "metadata": {},
   "outputs": [
    {
     "data": {
      "text/html": [
       "<div>\n",
       "<style scoped>\n",
       "    .dataframe tbody tr th:only-of-type {\n",
       "        vertical-align: middle;\n",
       "    }\n",
       "\n",
       "    .dataframe tbody tr th {\n",
       "        vertical-align: top;\n",
       "    }\n",
       "\n",
       "    .dataframe thead th {\n",
       "        text-align: right;\n",
       "    }\n",
       "</style>\n",
       "<table border=\"1\" class=\"dataframe\">\n",
       "  <thead>\n",
       "    <tr style=\"text-align: right;\">\n",
       "      <th></th>\n",
       "      <th>a</th>\n",
       "      <th>b</th>\n",
       "      <th>c</th>\n",
       "      <th>d</th>\n",
       "      <th>e</th>\n",
       "    </tr>\n",
       "  </thead>\n",
       "  <tbody>\n",
       "    <tr>\n",
       "      <th>0</th>\n",
       "      <td>567.000000</td>\n",
       "      <td>0.652214</td>\n",
       "      <td>0.720731</td>\n",
       "      <td>0.630563</td>\n",
       "      <td>0.650787</td>\n",
       "    </tr>\n",
       "    <tr>\n",
       "      <th>1</th>\n",
       "      <td>0.963910</td>\n",
       "      <td>0.003871</td>\n",
       "      <td>0.057987</td>\n",
       "      <td>0.780678</td>\n",
       "      <td>0.980098</td>\n",
       "    </tr>\n",
       "    <tr>\n",
       "      <th>2</th>\n",
       "      <td>0.033425</td>\n",
       "      <td>0.227662</td>\n",
       "      <td>0.187853</td>\n",
       "      <td>0.236797</td>\n",
       "      <td>0.155204</td>\n",
       "    </tr>\n",
       "    <tr>\n",
       "      <th>3</th>\n",
       "      <td>0.977362</td>\n",
       "      <td>0.165107</td>\n",
       "      <td>0.212846</td>\n",
       "      <td>0.464708</td>\n",
       "      <td>0.831627</td>\n",
       "    </tr>\n",
       "    <tr>\n",
       "      <th>4</th>\n",
       "      <td>0.939763</td>\n",
       "      <td>0.184261</td>\n",
       "      <td>0.331653</td>\n",
       "      <td>0.528041</td>\n",
       "      <td>0.876577</td>\n",
       "    </tr>\n",
       "  </tbody>\n",
       "</table>\n",
       "</div>"
      ],
      "text/plain": [
       "            a         b         c         d         e\n",
       "0  567.000000  0.652214  0.720731  0.630563  0.650787\n",
       "1    0.963910  0.003871  0.057987  0.780678  0.980098\n",
       "2    0.033425  0.227662  0.187853  0.236797  0.155204\n",
       "3    0.977362  0.165107  0.212846  0.464708  0.831627\n",
       "4    0.939763  0.184261  0.331653  0.528041  0.876577"
      ]
     },
     "execution_count": 39,
     "metadata": {},
     "output_type": "execute_result"
    }
   ],
   "source": [
    "newdf.head()\n"
   ]
  },
  {
   "cell_type": "code",
   "execution_count": 40,
   "id": "sophisticated-improvement",
   "metadata": {},
   "outputs": [],
   "source": [
    "newdf.loc[0,\"a\"]=987"
   ]
  },
  {
   "cell_type": "code",
   "execution_count": 41,
   "id": "legendary-shoot",
   "metadata": {},
   "outputs": [
    {
     "data": {
      "text/html": [
       "<div>\n",
       "<style scoped>\n",
       "    .dataframe tbody tr th:only-of-type {\n",
       "        vertical-align: middle;\n",
       "    }\n",
       "\n",
       "    .dataframe tbody tr th {\n",
       "        vertical-align: top;\n",
       "    }\n",
       "\n",
       "    .dataframe thead th {\n",
       "        text-align: right;\n",
       "    }\n",
       "</style>\n",
       "<table border=\"1\" class=\"dataframe\">\n",
       "  <thead>\n",
       "    <tr style=\"text-align: right;\">\n",
       "      <th></th>\n",
       "      <th>a</th>\n",
       "      <th>b</th>\n",
       "      <th>c</th>\n",
       "      <th>d</th>\n",
       "      <th>e</th>\n",
       "    </tr>\n",
       "  </thead>\n",
       "  <tbody>\n",
       "    <tr>\n",
       "      <th>0</th>\n",
       "      <td>987.000000</td>\n",
       "      <td>0.652214</td>\n",
       "      <td>0.720731</td>\n",
       "      <td>0.630563</td>\n",
       "      <td>0.650787</td>\n",
       "    </tr>\n",
       "    <tr>\n",
       "      <th>1</th>\n",
       "      <td>0.963910</td>\n",
       "      <td>0.003871</td>\n",
       "      <td>0.057987</td>\n",
       "      <td>0.780678</td>\n",
       "      <td>0.980098</td>\n",
       "    </tr>\n",
       "    <tr>\n",
       "      <th>2</th>\n",
       "      <td>0.033425</td>\n",
       "      <td>0.227662</td>\n",
       "      <td>0.187853</td>\n",
       "      <td>0.236797</td>\n",
       "      <td>0.155204</td>\n",
       "    </tr>\n",
       "    <tr>\n",
       "      <th>3</th>\n",
       "      <td>0.977362</td>\n",
       "      <td>0.165107</td>\n",
       "      <td>0.212846</td>\n",
       "      <td>0.464708</td>\n",
       "      <td>0.831627</td>\n",
       "    </tr>\n",
       "    <tr>\n",
       "      <th>4</th>\n",
       "      <td>0.939763</td>\n",
       "      <td>0.184261</td>\n",
       "      <td>0.331653</td>\n",
       "      <td>0.528041</td>\n",
       "      <td>0.876577</td>\n",
       "    </tr>\n",
       "    <tr>\n",
       "      <th>...</th>\n",
       "      <td>...</td>\n",
       "      <td>...</td>\n",
       "      <td>...</td>\n",
       "      <td>...</td>\n",
       "      <td>...</td>\n",
       "    </tr>\n",
       "    <tr>\n",
       "      <th>330</th>\n",
       "      <td>0.981463</td>\n",
       "      <td>0.562064</td>\n",
       "      <td>0.678054</td>\n",
       "      <td>0.123620</td>\n",
       "      <td>0.339796</td>\n",
       "    </tr>\n",
       "    <tr>\n",
       "      <th>331</th>\n",
       "      <td>0.873695</td>\n",
       "      <td>0.198069</td>\n",
       "      <td>0.125585</td>\n",
       "      <td>0.693027</td>\n",
       "      <td>0.972645</td>\n",
       "    </tr>\n",
       "    <tr>\n",
       "      <th>332</th>\n",
       "      <td>0.570017</td>\n",
       "      <td>0.064618</td>\n",
       "      <td>0.401923</td>\n",
       "      <td>0.964643</td>\n",
       "      <td>0.453933</td>\n",
       "    </tr>\n",
       "    <tr>\n",
       "      <th>333</th>\n",
       "      <td>0.039209</td>\n",
       "      <td>0.881414</td>\n",
       "      <td>0.774347</td>\n",
       "      <td>0.273003</td>\n",
       "      <td>0.769068</td>\n",
       "    </tr>\n",
       "    <tr>\n",
       "      <th>334</th>\n",
       "      <td>0.564874</td>\n",
       "      <td>0.426052</td>\n",
       "      <td>0.172287</td>\n",
       "      <td>0.487250</td>\n",
       "      <td>0.697206</td>\n",
       "    </tr>\n",
       "  </tbody>\n",
       "</table>\n",
       "<p>335 rows × 5 columns</p>\n",
       "</div>"
      ],
      "text/plain": [
       "              a         b         c         d         e\n",
       "0    987.000000  0.652214  0.720731  0.630563  0.650787\n",
       "1      0.963910  0.003871  0.057987  0.780678  0.980098\n",
       "2      0.033425  0.227662  0.187853  0.236797  0.155204\n",
       "3      0.977362  0.165107  0.212846  0.464708  0.831627\n",
       "4      0.939763  0.184261  0.331653  0.528041  0.876577\n",
       "..          ...       ...       ...       ...       ...\n",
       "330    0.981463  0.562064  0.678054  0.123620  0.339796\n",
       "331    0.873695  0.198069  0.125585  0.693027  0.972645\n",
       "332    0.570017  0.064618  0.401923  0.964643  0.453933\n",
       "333    0.039209  0.881414  0.774347  0.273003  0.769068\n",
       "334    0.564874  0.426052  0.172287  0.487250  0.697206\n",
       "\n",
       "[335 rows x 5 columns]"
      ]
     },
     "execution_count": 41,
     "metadata": {},
     "output_type": "execute_result"
    }
   ],
   "source": [
    "newdf"
   ]
  },
  {
   "cell_type": "code",
   "execution_count": 42,
   "id": "restricted-climate",
   "metadata": {},
   "outputs": [
    {
     "ename": "KeyError",
     "evalue": "'[(0, 0)] not found in axis'",
     "output_type": "error",
     "traceback": [
      "\u001b[1;31m---------------------------------------------------------------------------\u001b[0m",
      "\u001b[1;31mKeyError\u001b[0m                                  Traceback (most recent call last)",
      "\u001b[1;32m<ipython-input-42-3cc2b2c104af>\u001b[0m in \u001b[0;36m<module>\u001b[1;34m\u001b[0m\n\u001b[1;32m----> 1\u001b[1;33m \u001b[0mnewdf\u001b[0m \u001b[1;33m=\u001b[0m \u001b[0mnewdf\u001b[0m\u001b[1;33m.\u001b[0m\u001b[0mdrop\u001b[0m\u001b[1;33m(\u001b[0m\u001b[1;33m(\u001b[0m\u001b[1;36m0\u001b[0m\u001b[1;33m,\u001b[0m\u001b[1;36m0\u001b[0m\u001b[1;33m)\u001b[0m\u001b[1;33m,\u001b[0m \u001b[0maxis\u001b[0m\u001b[1;33m=\u001b[0m\u001b[1;36m1\u001b[0m\u001b[1;33m)\u001b[0m\u001b[1;33m\u001b[0m\u001b[1;33m\u001b[0m\u001b[0m\n\u001b[0m",
      "\u001b[1;32m~\\AppData\\Local\\Programs\\Python\\Python39\\lib\\site-packages\\pandas\\core\\frame.py\u001b[0m in \u001b[0;36mdrop\u001b[1;34m(self, labels, axis, index, columns, level, inplace, errors)\u001b[0m\n\u001b[0;32m   4306\u001b[0m                 \u001b[0mweight\u001b[0m  \u001b[1;36m1.0\u001b[0m     \u001b[1;36m0.8\u001b[0m\u001b[1;33m\u001b[0m\u001b[1;33m\u001b[0m\u001b[0m\n\u001b[0;32m   4307\u001b[0m         \"\"\"\n\u001b[1;32m-> 4308\u001b[1;33m         return super().drop(\n\u001b[0m\u001b[0;32m   4309\u001b[0m             \u001b[0mlabels\u001b[0m\u001b[1;33m=\u001b[0m\u001b[0mlabels\u001b[0m\u001b[1;33m,\u001b[0m\u001b[1;33m\u001b[0m\u001b[1;33m\u001b[0m\u001b[0m\n\u001b[0;32m   4310\u001b[0m             \u001b[0maxis\u001b[0m\u001b[1;33m=\u001b[0m\u001b[0maxis\u001b[0m\u001b[1;33m,\u001b[0m\u001b[1;33m\u001b[0m\u001b[1;33m\u001b[0m\u001b[0m\n",
      "\u001b[1;32m~\\AppData\\Local\\Programs\\Python\\Python39\\lib\\site-packages\\pandas\\core\\generic.py\u001b[0m in \u001b[0;36mdrop\u001b[1;34m(self, labels, axis, index, columns, level, inplace, errors)\u001b[0m\n\u001b[0;32m   4151\u001b[0m         \u001b[1;32mfor\u001b[0m \u001b[0maxis\u001b[0m\u001b[1;33m,\u001b[0m \u001b[0mlabels\u001b[0m \u001b[1;32min\u001b[0m \u001b[0maxes\u001b[0m\u001b[1;33m.\u001b[0m\u001b[0mitems\u001b[0m\u001b[1;33m(\u001b[0m\u001b[1;33m)\u001b[0m\u001b[1;33m:\u001b[0m\u001b[1;33m\u001b[0m\u001b[1;33m\u001b[0m\u001b[0m\n\u001b[0;32m   4152\u001b[0m             \u001b[1;32mif\u001b[0m \u001b[0mlabels\u001b[0m \u001b[1;32mis\u001b[0m \u001b[1;32mnot\u001b[0m \u001b[1;32mNone\u001b[0m\u001b[1;33m:\u001b[0m\u001b[1;33m\u001b[0m\u001b[1;33m\u001b[0m\u001b[0m\n\u001b[1;32m-> 4153\u001b[1;33m                 \u001b[0mobj\u001b[0m \u001b[1;33m=\u001b[0m \u001b[0mobj\u001b[0m\u001b[1;33m.\u001b[0m\u001b[0m_drop_axis\u001b[0m\u001b[1;33m(\u001b[0m\u001b[0mlabels\u001b[0m\u001b[1;33m,\u001b[0m \u001b[0maxis\u001b[0m\u001b[1;33m,\u001b[0m \u001b[0mlevel\u001b[0m\u001b[1;33m=\u001b[0m\u001b[0mlevel\u001b[0m\u001b[1;33m,\u001b[0m \u001b[0merrors\u001b[0m\u001b[1;33m=\u001b[0m\u001b[0merrors\u001b[0m\u001b[1;33m)\u001b[0m\u001b[1;33m\u001b[0m\u001b[1;33m\u001b[0m\u001b[0m\n\u001b[0m\u001b[0;32m   4154\u001b[0m \u001b[1;33m\u001b[0m\u001b[0m\n\u001b[0;32m   4155\u001b[0m         \u001b[1;32mif\u001b[0m \u001b[0minplace\u001b[0m\u001b[1;33m:\u001b[0m\u001b[1;33m\u001b[0m\u001b[1;33m\u001b[0m\u001b[0m\n",
      "\u001b[1;32m~\\AppData\\Local\\Programs\\Python\\Python39\\lib\\site-packages\\pandas\\core\\generic.py\u001b[0m in \u001b[0;36m_drop_axis\u001b[1;34m(self, labels, axis, level, errors)\u001b[0m\n\u001b[0;32m   4186\u001b[0m                 \u001b[0mnew_axis\u001b[0m \u001b[1;33m=\u001b[0m \u001b[0maxis\u001b[0m\u001b[1;33m.\u001b[0m\u001b[0mdrop\u001b[0m\u001b[1;33m(\u001b[0m\u001b[0mlabels\u001b[0m\u001b[1;33m,\u001b[0m \u001b[0mlevel\u001b[0m\u001b[1;33m=\u001b[0m\u001b[0mlevel\u001b[0m\u001b[1;33m,\u001b[0m \u001b[0merrors\u001b[0m\u001b[1;33m=\u001b[0m\u001b[0merrors\u001b[0m\u001b[1;33m)\u001b[0m\u001b[1;33m\u001b[0m\u001b[1;33m\u001b[0m\u001b[0m\n\u001b[0;32m   4187\u001b[0m             \u001b[1;32melse\u001b[0m\u001b[1;33m:\u001b[0m\u001b[1;33m\u001b[0m\u001b[1;33m\u001b[0m\u001b[0m\n\u001b[1;32m-> 4188\u001b[1;33m                 \u001b[0mnew_axis\u001b[0m \u001b[1;33m=\u001b[0m \u001b[0maxis\u001b[0m\u001b[1;33m.\u001b[0m\u001b[0mdrop\u001b[0m\u001b[1;33m(\u001b[0m\u001b[0mlabels\u001b[0m\u001b[1;33m,\u001b[0m \u001b[0merrors\u001b[0m\u001b[1;33m=\u001b[0m\u001b[0merrors\u001b[0m\u001b[1;33m)\u001b[0m\u001b[1;33m\u001b[0m\u001b[1;33m\u001b[0m\u001b[0m\n\u001b[0m\u001b[0;32m   4189\u001b[0m             \u001b[0mresult\u001b[0m \u001b[1;33m=\u001b[0m \u001b[0mself\u001b[0m\u001b[1;33m.\u001b[0m\u001b[0mreindex\u001b[0m\u001b[1;33m(\u001b[0m\u001b[1;33m**\u001b[0m\u001b[1;33m{\u001b[0m\u001b[0maxis_name\u001b[0m\u001b[1;33m:\u001b[0m \u001b[0mnew_axis\u001b[0m\u001b[1;33m}\u001b[0m\u001b[1;33m)\u001b[0m\u001b[1;33m\u001b[0m\u001b[1;33m\u001b[0m\u001b[0m\n\u001b[0;32m   4190\u001b[0m \u001b[1;33m\u001b[0m\u001b[0m\n",
      "\u001b[1;32m~\\AppData\\Local\\Programs\\Python\\Python39\\lib\\site-packages\\pandas\\core\\indexes\\base.py\u001b[0m in \u001b[0;36mdrop\u001b[1;34m(self, labels, errors)\u001b[0m\n\u001b[0;32m   5589\u001b[0m         \u001b[1;32mif\u001b[0m \u001b[0mmask\u001b[0m\u001b[1;33m.\u001b[0m\u001b[0many\u001b[0m\u001b[1;33m(\u001b[0m\u001b[1;33m)\u001b[0m\u001b[1;33m:\u001b[0m\u001b[1;33m\u001b[0m\u001b[1;33m\u001b[0m\u001b[0m\n\u001b[0;32m   5590\u001b[0m             \u001b[1;32mif\u001b[0m \u001b[0merrors\u001b[0m \u001b[1;33m!=\u001b[0m \u001b[1;34m\"ignore\"\u001b[0m\u001b[1;33m:\u001b[0m\u001b[1;33m\u001b[0m\u001b[1;33m\u001b[0m\u001b[0m\n\u001b[1;32m-> 5591\u001b[1;33m                 \u001b[1;32mraise\u001b[0m \u001b[0mKeyError\u001b[0m\u001b[1;33m(\u001b[0m\u001b[1;34mf\"{labels[mask]} not found in axis\"\u001b[0m\u001b[1;33m)\u001b[0m\u001b[1;33m\u001b[0m\u001b[1;33m\u001b[0m\u001b[0m\n\u001b[0m\u001b[0;32m   5592\u001b[0m             \u001b[0mindexer\u001b[0m \u001b[1;33m=\u001b[0m \u001b[0mindexer\u001b[0m\u001b[1;33m[\u001b[0m\u001b[1;33m~\u001b[0m\u001b[0mmask\u001b[0m\u001b[1;33m]\u001b[0m\u001b[1;33m\u001b[0m\u001b[1;33m\u001b[0m\u001b[0m\n\u001b[0;32m   5593\u001b[0m         \u001b[1;32mreturn\u001b[0m \u001b[0mself\u001b[0m\u001b[1;33m.\u001b[0m\u001b[0mdelete\u001b[0m\u001b[1;33m(\u001b[0m\u001b[0mindexer\u001b[0m\u001b[1;33m)\u001b[0m\u001b[1;33m\u001b[0m\u001b[1;33m\u001b[0m\u001b[0m\n",
      "\u001b[1;31mKeyError\u001b[0m: '[(0, 0)] not found in axis'"
     ]
    }
   ],
   "source": [
    "newdf = newdf.drop((0,0), axis=1)"
   ]
  },
  {
   "cell_type": "code",
   "execution_count": null,
   "id": "theoretical-algebra",
   "metadata": {},
   "outputs": [],
   "source": [
    "newdf=newdf.drop((0,'a'),axis=1)"
   ]
  },
  {
   "cell_type": "code",
   "execution_count": null,
   "id": "average-german",
   "metadata": {},
   "outputs": [],
   "source": [
    "newdf"
   ]
  },
  {
   "cell_type": "code",
   "execution_count": null,
   "id": "sapphire-corps",
   "metadata": {},
   "outputs": [],
   "source": [
    "newdf.loc[[1,2],['c','d']]"
   ]
  },
  {
   "cell_type": "code",
   "execution_count": null,
   "id": "close-grocery",
   "metadata": {},
   "outputs": [],
   "source": [
    "newdf.loc[:,['c','d']]"
   ]
  },
  {
   "cell_type": "code",
   "execution_count": null,
   "id": "searching-onion",
   "metadata": {},
   "outputs": [],
   "source": [
    "newdf.loc[[1,2],:]"
   ]
  },
  {
   "cell_type": "code",
   "execution_count": null,
   "id": "starting-wound",
   "metadata": {},
   "outputs": [],
   "source": [
    "newdf.loc[(newdf['a']<0.2)]"
   ]
  },
  {
   "cell_type": "code",
   "execution_count": null,
   "id": "selective-private",
   "metadata": {},
   "outputs": [],
   "source": [
    "newdf.loc[(newdf['a']<0.2) & (newdf['c']>0.1)]"
   ]
  },
  {
   "cell_type": "code",
   "execution_count": null,
   "id": "analyzed-county",
   "metadata": {},
   "outputs": [],
   "source": [
    "newdf.loc[(newdf['a']<0.2)].head(2)"
   ]
  },
  {
   "cell_type": "code",
   "execution_count": null,
   "id": "voluntary-milton",
   "metadata": {},
   "outputs": [],
   "source": [
    "newdf.head(2)"
   ]
  },
  {
   "cell_type": "code",
   "execution_count": null,
   "id": "appropriate-birth",
   "metadata": {},
   "outputs": [],
   "source": [
    "newdf.iloc[0,4]   #to_seacrh_with_exact_index"
   ]
  },
  {
   "cell_type": "code",
   "execution_count": null,
   "id": "assumed-steal",
   "metadata": {},
   "outputs": [],
   "source": [
    "newdf.iloc[[0,1],[0,2]]"
   ]
  },
  {
   "cell_type": "code",
   "execution_count": null,
   "id": "closed-algebra",
   "metadata": {},
   "outputs": [],
   "source": [
    "newdf.head(3)"
   ]
  },
  {
   "cell_type": "code",
   "execution_count": null,
   "id": "vital-gamma",
   "metadata": {},
   "outputs": [],
   "source": [
    "newdf.drop(0) #dropping row"
   ]
  },
  {
   "cell_type": "code",
   "execution_count": null,
   "id": "temporal-behavior",
   "metadata": {},
   "outputs": [],
   "source": [
    "newdf.drop([0]) #dropping row"
   ]
  },
  {
   "cell_type": "code",
   "execution_count": null,
   "id": "green-fluid",
   "metadata": {},
   "outputs": [],
   "source": [
    "newdf.drop('a',axis=1) #dropping column"
   ]
  },
  {
   "cell_type": "code",
   "execution_count": null,
   "id": "corrected-jonathan",
   "metadata": {},
   "outputs": [],
   "source": [
    "newdf.drop(['a','c'],axis=1) #dropping column"
   ]
  },
  {
   "cell_type": "code",
   "execution_count": null,
   "id": "compact-dispatch",
   "metadata": {},
   "outputs": [],
   "source": [
    "newdf.drop(['b'],axis=1, inplace =True)  #modifies the original one"
   ]
  },
  {
   "cell_type": "code",
   "execution_count": null,
   "id": "herbal-floor",
   "metadata": {},
   "outputs": [],
   "source": [
    "newdf"
   ]
  },
  {
   "cell_type": "code",
   "execution_count": null,
   "id": "supported-consolidation",
   "metadata": {},
   "outputs": [],
   "source": [
    "newdf=pd.DataFrame(np.random.rand(335,5),index=np.arange(335)).head(8)"
   ]
  },
  {
   "cell_type": "code",
   "execution_count": null,
   "id": "elegant-movement",
   "metadata": {},
   "outputs": [],
   "source": [
    "newdf"
   ]
  },
  {
   "cell_type": "code",
   "execution_count": null,
   "id": "realistic-racing",
   "metadata": {},
   "outputs": [],
   "source": [
    "newdf.drop([1,5],axis=0,inplace=True)   #deletes row no. 1 and 5 "
   ]
  },
  {
   "cell_type": "code",
   "execution_count": null,
   "id": "effective-rabbit",
   "metadata": {},
   "outputs": [],
   "source": [
    "newdf"
   ]
  },
  {
   "cell_type": "code",
   "execution_count": null,
   "id": "documentary-gates",
   "metadata": {},
   "outputs": [],
   "source": [
    "newdf.reset_index()  #brings back rows"
   ]
  },
  {
   "cell_type": "code",
   "execution_count": null,
   "id": "thirty-siemens",
   "metadata": {},
   "outputs": [],
   "source": [
    "newdf.reset_index(drop = True, inplace=True) #removes the column named index"
   ]
  },
  {
   "cell_type": "code",
   "execution_count": null,
   "id": "polished-integral",
   "metadata": {},
   "outputs": [],
   "source": [
    "newdf"
   ]
  },
  {
   "cell_type": "code",
   "execution_count": null,
   "id": "headed-appreciation",
   "metadata": {},
   "outputs": [],
   "source": [
    "newdf[1].isnull() #to_find_what_values_are_null"
   ]
  },
  {
   "cell_type": "code",
   "execution_count": null,
   "id": "generous-health",
   "metadata": {},
   "outputs": [],
   "source": [
    "newdf.loc[:,[2]] = 55  #to make a column with custom values"
   ]
  },
  {
   "cell_type": "code",
   "execution_count": null,
   "id": "billion-glory",
   "metadata": {},
   "outputs": [],
   "source": [
    "newdf"
   ]
  },
  {
   "cell_type": "code",
   "execution_count": null,
   "id": "norman-taiwan",
   "metadata": {},
   "outputs": [],
   "source": [
    "x=pd.DataFrame(np.random.rand(10,5),index=np.arange(10))"
   ]
  },
  {
   "cell_type": "code",
   "execution_count": 46,
   "id": "hawaiian-rugby",
   "metadata": {},
   "outputs": [],
   "source": [
    "import pandas as pd "
   ]
  },
  {
   "cell_type": "code",
   "execution_count": 50,
   "id": "decent-bracelet",
   "metadata": {},
   "outputs": [],
   "source": [
    "df = pd.DataFrame({'name':['Alfred',' Batman', 'catwoman'],\n",
    "                           'toy':[np.NaN,'batmobile','bullwhip'],\n",
    "                           'born':[pd.NaT,pd.Timestamp('1940-04-25'),pd.NaT]})"
   ]
  },
  {
   "cell_type": "code",
   "execution_count": 51,
   "id": "veterinary-stand",
   "metadata": {},
   "outputs": [
    {
     "data": {
      "text/html": [
       "<div>\n",
       "<style scoped>\n",
       "    .dataframe tbody tr th:only-of-type {\n",
       "        vertical-align: middle;\n",
       "    }\n",
       "\n",
       "    .dataframe tbody tr th {\n",
       "        vertical-align: top;\n",
       "    }\n",
       "\n",
       "    .dataframe thead th {\n",
       "        text-align: right;\n",
       "    }\n",
       "</style>\n",
       "<table border=\"1\" class=\"dataframe\">\n",
       "  <thead>\n",
       "    <tr style=\"text-align: right;\">\n",
       "      <th></th>\n",
       "      <th>name</th>\n",
       "      <th>toy</th>\n",
       "      <th>born</th>\n",
       "    </tr>\n",
       "  </thead>\n",
       "  <tbody>\n",
       "    <tr>\n",
       "      <th>0</th>\n",
       "      <td>Alfred</td>\n",
       "      <td>NaN</td>\n",
       "      <td>NaT</td>\n",
       "    </tr>\n",
       "    <tr>\n",
       "      <th>1</th>\n",
       "      <td>Batman</td>\n",
       "      <td>batmobile</td>\n",
       "      <td>1940-04-25</td>\n",
       "    </tr>\n",
       "    <tr>\n",
       "      <th>2</th>\n",
       "      <td>catwoman</td>\n",
       "      <td>bullwhip</td>\n",
       "      <td>NaT</td>\n",
       "    </tr>\n",
       "  </tbody>\n",
       "</table>\n",
       "</div>"
      ],
      "text/plain": [
       "       name        toy       born\n",
       "0    Alfred        NaN        NaT\n",
       "1    Batman  batmobile 1940-04-25\n",
       "2  catwoman   bullwhip        NaT"
      ]
     },
     "execution_count": 51,
     "metadata": {},
     "output_type": "execute_result"
    }
   ],
   "source": [
    "df\n"
   ]
  },
  {
   "cell_type": "code",
   "execution_count": 52,
   "id": "multiple-broadcast",
   "metadata": {},
   "outputs": [
    {
     "data": {
      "text/html": [
       "<div>\n",
       "<style scoped>\n",
       "    .dataframe tbody tr th:only-of-type {\n",
       "        vertical-align: middle;\n",
       "    }\n",
       "\n",
       "    .dataframe tbody tr th {\n",
       "        vertical-align: top;\n",
       "    }\n",
       "\n",
       "    .dataframe thead th {\n",
       "        text-align: right;\n",
       "    }\n",
       "</style>\n",
       "<table border=\"1\" class=\"dataframe\">\n",
       "  <thead>\n",
       "    <tr style=\"text-align: right;\">\n",
       "      <th></th>\n",
       "      <th>name</th>\n",
       "      <th>toy</th>\n",
       "      <th>born</th>\n",
       "    </tr>\n",
       "  </thead>\n",
       "  <tbody>\n",
       "    <tr>\n",
       "      <th>1</th>\n",
       "      <td>Batman</td>\n",
       "      <td>batmobile</td>\n",
       "      <td>1940-04-25</td>\n",
       "    </tr>\n",
       "  </tbody>\n",
       "</table>\n",
       "</div>"
      ],
      "text/plain": [
       "      name        toy       born\n",
       "1   Batman  batmobile 1940-04-25"
      ]
     },
     "execution_count": 52,
     "metadata": {},
     "output_type": "execute_result"
    }
   ],
   "source": [
    "df.dropna()  #drops "
   ]
  },
  {
   "cell_type": "code",
   "execution_count": null,
   "id": "together-surgery",
   "metadata": {},
   "outputs": [],
   "source": [
    "df.dropna(how =all ) "
   ]
  },
  {
   "cell_type": "code",
   "execution_count": 56,
   "id": "sophisticated-layer",
   "metadata": {},
   "outputs": [],
   "source": [
    "df = pd.DataFrame({'name':['Alfred',' Batman', 'catwoman'],\n",
    "                           'toy':[np.NaN,np.NaN,np.NaN],\n",
    "                           'born':[pd.NaT,pd.Timestamp('1940-04-25'),pd.NaT]})"
   ]
  },
  {
   "cell_type": "code",
   "execution_count": 57,
   "id": "adjustable-drove",
   "metadata": {},
   "outputs": [
    {
     "data": {
      "text/html": [
       "<div>\n",
       "<style scoped>\n",
       "    .dataframe tbody tr th:only-of-type {\n",
       "        vertical-align: middle;\n",
       "    }\n",
       "\n",
       "    .dataframe tbody tr th {\n",
       "        vertical-align: top;\n",
       "    }\n",
       "\n",
       "    .dataframe thead th {\n",
       "        text-align: right;\n",
       "    }\n",
       "</style>\n",
       "<table border=\"1\" class=\"dataframe\">\n",
       "  <thead>\n",
       "    <tr style=\"text-align: right;\">\n",
       "      <th></th>\n",
       "      <th>name</th>\n",
       "      <th>toy</th>\n",
       "      <th>born</th>\n",
       "    </tr>\n",
       "  </thead>\n",
       "  <tbody>\n",
       "    <tr>\n",
       "      <th>0</th>\n",
       "      <td>Alfred</td>\n",
       "      <td>NaN</td>\n",
       "      <td>NaT</td>\n",
       "    </tr>\n",
       "    <tr>\n",
       "      <th>1</th>\n",
       "      <td>Batman</td>\n",
       "      <td>NaN</td>\n",
       "      <td>1940-04-25</td>\n",
       "    </tr>\n",
       "    <tr>\n",
       "      <th>2</th>\n",
       "      <td>catwoman</td>\n",
       "      <td>NaN</td>\n",
       "      <td>NaT</td>\n",
       "    </tr>\n",
       "  </tbody>\n",
       "</table>\n",
       "</div>"
      ],
      "text/plain": [
       "       name  toy       born\n",
       "0    Alfred  NaN        NaT\n",
       "1    Batman  NaN 1940-04-25\n",
       "2  catwoman  NaN        NaT"
      ]
     },
     "execution_count": 57,
     "metadata": {},
     "output_type": "execute_result"
    }
   ],
   "source": [
    "df"
   ]
  },
  {
   "cell_type": "code",
   "execution_count": 60,
   "id": "veterinary-vitamin",
   "metadata": {},
   "outputs": [
    {
     "data": {
      "text/html": [
       "<div>\n",
       "<style scoped>\n",
       "    .dataframe tbody tr th:only-of-type {\n",
       "        vertical-align: middle;\n",
       "    }\n",
       "\n",
       "    .dataframe tbody tr th {\n",
       "        vertical-align: top;\n",
       "    }\n",
       "\n",
       "    .dataframe thead th {\n",
       "        text-align: right;\n",
       "    }\n",
       "</style>\n",
       "<table border=\"1\" class=\"dataframe\">\n",
       "  <thead>\n",
       "    <tr style=\"text-align: right;\">\n",
       "      <th></th>\n",
       "      <th>name</th>\n",
       "      <th>born</th>\n",
       "    </tr>\n",
       "  </thead>\n",
       "  <tbody>\n",
       "    <tr>\n",
       "      <th>0</th>\n",
       "      <td>Alfred</td>\n",
       "      <td>NaT</td>\n",
       "    </tr>\n",
       "    <tr>\n",
       "      <th>1</th>\n",
       "      <td>Batman</td>\n",
       "      <td>1940-04-25</td>\n",
       "    </tr>\n",
       "    <tr>\n",
       "      <th>2</th>\n",
       "      <td>catwoman</td>\n",
       "      <td>NaT</td>\n",
       "    </tr>\n",
       "  </tbody>\n",
       "</table>\n",
       "</div>"
      ],
      "text/plain": [
       "       name       born\n",
       "0    Alfred        NaT\n",
       "1    Batman 1940-04-25\n",
       "2  catwoman        NaT"
      ]
     },
     "execution_count": 60,
     "metadata": {},
     "output_type": "execute_result"
    }
   ],
   "source": [
    "df.dropna(how='all',axis =1)  #removes NaN values"
   ]
  },
  {
   "cell_type": "code",
   "execution_count": 66,
   "id": "enhanced-hands",
   "metadata": {},
   "outputs": [],
   "source": [
    "df = pd.DataFrame({'name':['Alfred',' Batman', 'Alfred'],\n",
    "                           'toy':[np.NaN,'batmobile','bullwhip'],\n",
    "                           'born':[pd.NaT,pd.Timestamp('1940-04-25'),pd.NaT]})"
   ]
  },
  {
   "cell_type": "code",
   "execution_count": 67,
   "id": "athletic-instruction",
   "metadata": {},
   "outputs": [
    {
     "data": {
      "text/html": [
       "<div>\n",
       "<style scoped>\n",
       "    .dataframe tbody tr th:only-of-type {\n",
       "        vertical-align: middle;\n",
       "    }\n",
       "\n",
       "    .dataframe tbody tr th {\n",
       "        vertical-align: top;\n",
       "    }\n",
       "\n",
       "    .dataframe thead th {\n",
       "        text-align: right;\n",
       "    }\n",
       "</style>\n",
       "<table border=\"1\" class=\"dataframe\">\n",
       "  <thead>\n",
       "    <tr style=\"text-align: right;\">\n",
       "      <th></th>\n",
       "      <th>name</th>\n",
       "      <th>toy</th>\n",
       "      <th>born</th>\n",
       "    </tr>\n",
       "  </thead>\n",
       "  <tbody>\n",
       "    <tr>\n",
       "      <th>0</th>\n",
       "      <td>Alfred</td>\n",
       "      <td>NaN</td>\n",
       "      <td>NaT</td>\n",
       "    </tr>\n",
       "    <tr>\n",
       "      <th>1</th>\n",
       "      <td>Batman</td>\n",
       "      <td>batmobile</td>\n",
       "      <td>1940-04-25</td>\n",
       "    </tr>\n",
       "  </tbody>\n",
       "</table>\n",
       "</div>"
      ],
      "text/plain": [
       "      name        toy       born\n",
       "0   Alfred        NaN        NaT\n",
       "1   Batman  batmobile 1940-04-25"
      ]
     },
     "execution_count": 67,
     "metadata": {},
     "output_type": "execute_result"
    }
   ],
   "source": [
    "df.drop_duplicates(subset ='name')  #removes duplicate from NAME"
   ]
  },
  {
   "cell_type": "code",
   "execution_count": 69,
   "id": "ambient-projector",
   "metadata": {},
   "outputs": [
    {
     "data": {
      "text/html": [
       "<div>\n",
       "<style scoped>\n",
       "    .dataframe tbody tr th:only-of-type {\n",
       "        vertical-align: middle;\n",
       "    }\n",
       "\n",
       "    .dataframe tbody tr th {\n",
       "        vertical-align: top;\n",
       "    }\n",
       "\n",
       "    .dataframe thead th {\n",
       "        text-align: right;\n",
       "    }\n",
       "</style>\n",
       "<table border=\"1\" class=\"dataframe\">\n",
       "  <thead>\n",
       "    <tr style=\"text-align: right;\">\n",
       "      <th></th>\n",
       "      <th>name</th>\n",
       "      <th>toy</th>\n",
       "      <th>born</th>\n",
       "    </tr>\n",
       "  </thead>\n",
       "  <tbody>\n",
       "    <tr>\n",
       "      <th>1</th>\n",
       "      <td>Batman</td>\n",
       "      <td>batmobile</td>\n",
       "      <td>1940-04-25</td>\n",
       "    </tr>\n",
       "  </tbody>\n",
       "</table>\n",
       "</div>"
      ],
      "text/plain": [
       "      name        toy       born\n",
       "1   Batman  batmobile 1940-04-25"
      ]
     },
     "execution_count": 69,
     "metadata": {},
     "output_type": "execute_result"
    }
   ],
   "source": [
    "df.drop_duplicates(subset =['name'],keep =False) #removes all duplicate values "
   ]
  },
  {
   "cell_type": "code",
   "execution_count": 71,
   "id": "orange-input",
   "metadata": {},
   "outputs": [
    {
     "data": {
      "text/html": [
       "<div>\n",
       "<style scoped>\n",
       "    .dataframe tbody tr th:only-of-type {\n",
       "        vertical-align: middle;\n",
       "    }\n",
       "\n",
       "    .dataframe tbody tr th {\n",
       "        vertical-align: top;\n",
       "    }\n",
       "\n",
       "    .dataframe thead th {\n",
       "        text-align: right;\n",
       "    }\n",
       "</style>\n",
       "<table border=\"1\" class=\"dataframe\">\n",
       "  <thead>\n",
       "    <tr style=\"text-align: right;\">\n",
       "      <th></th>\n",
       "      <th>name</th>\n",
       "      <th>toy</th>\n",
       "      <th>born</th>\n",
       "    </tr>\n",
       "  </thead>\n",
       "  <tbody>\n",
       "    <tr>\n",
       "      <th>1</th>\n",
       "      <td>Batman</td>\n",
       "      <td>batmobile</td>\n",
       "      <td>1940-04-25</td>\n",
       "    </tr>\n",
       "    <tr>\n",
       "      <th>2</th>\n",
       "      <td>Alfred</td>\n",
       "      <td>bullwhip</td>\n",
       "      <td>NaT</td>\n",
       "    </tr>\n",
       "  </tbody>\n",
       "</table>\n",
       "</div>"
      ],
      "text/plain": [
       "      name        toy       born\n",
       "1   Batman  batmobile 1940-04-25\n",
       "2   Alfred   bullwhip        NaT"
      ]
     },
     "execution_count": 71,
     "metadata": {},
     "output_type": "execute_result"
    }
   ],
   "source": [
    "df.drop_duplicates(subset =['name'],keep ='last') #keeps the last duplicate one\n"
   ]
  },
  {
   "cell_type": "code",
   "execution_count": 74,
   "id": "corrected-problem",
   "metadata": {},
   "outputs": [
    {
     "data": {
      "text/html": [
       "<div>\n",
       "<style scoped>\n",
       "    .dataframe tbody tr th:only-of-type {\n",
       "        vertical-align: middle;\n",
       "    }\n",
       "\n",
       "    .dataframe tbody tr th {\n",
       "        vertical-align: top;\n",
       "    }\n",
       "\n",
       "    .dataframe thead th {\n",
       "        text-align: right;\n",
       "    }\n",
       "</style>\n",
       "<table border=\"1\" class=\"dataframe\">\n",
       "  <thead>\n",
       "    <tr style=\"text-align: right;\">\n",
       "      <th></th>\n",
       "      <th>name</th>\n",
       "      <th>toy</th>\n",
       "      <th>born</th>\n",
       "    </tr>\n",
       "  </thead>\n",
       "  <tbody>\n",
       "    <tr>\n",
       "      <th>0</th>\n",
       "      <td>Alfred</td>\n",
       "      <td>NaN</td>\n",
       "      <td>NaT</td>\n",
       "    </tr>\n",
       "    <tr>\n",
       "      <th>1</th>\n",
       "      <td>Batman</td>\n",
       "      <td>batmobile</td>\n",
       "      <td>1940-04-25</td>\n",
       "    </tr>\n",
       "  </tbody>\n",
       "</table>\n",
       "</div>"
      ],
      "text/plain": [
       "      name        toy       born\n",
       "0   Alfred        NaN        NaT\n",
       "1   Batman  batmobile 1940-04-25"
      ]
     },
     "execution_count": 74,
     "metadata": {},
     "output_type": "execute_result"
    }
   ],
   "source": [
    "df.drop_duplicates(subset =['name'],keep ='first') #keeps the first duplicate record"
   ]
  },
  {
   "cell_type": "code",
   "execution_count": 77,
   "id": "touched-baltimore",
   "metadata": {},
   "outputs": [
    {
     "data": {
      "text/plain": [
       "(3, 3)"
      ]
     },
     "execution_count": 77,
     "metadata": {},
     "output_type": "execute_result"
    }
   ],
   "source": [
    "df.shape\n"
   ]
  },
  {
   "cell_type": "code",
   "execution_count": 78,
   "id": "binary-commitment",
   "metadata": {},
   "outputs": [
    {
     "data": {
      "text/plain": [
       "<bound method DataFrame.info of       name        toy       born\n",
       "0   Alfred        NaN        NaT\n",
       "1   Batman  batmobile 1940-04-25\n",
       "2   Alfred   bullwhip        NaT>"
      ]
     },
     "execution_count": 78,
     "metadata": {},
     "output_type": "execute_result"
    }
   ],
   "source": [
    "df.info"
   ]
  },
  {
   "cell_type": "code",
   "execution_count": 81,
   "id": "sexual-trading",
   "metadata": {},
   "outputs": [
    {
     "data": {
      "text/plain": [
       "Alfred     2\n",
       " Batman    1\n",
       "Name: name, dtype: int64"
      ]
     },
     "execution_count": 81,
     "metadata": {},
     "output_type": "execute_result"
    }
   ],
   "source": [
    "df['name'].value_counts(dropna =False)"
   ]
  },
  {
   "cell_type": "code",
   "execution_count": 82,
   "id": "hawaiian-privilege",
   "metadata": {},
   "outputs": [
    {
     "data": {
      "text/plain": [
       "bullwhip     1\n",
       "batmobile    1\n",
       "Name: toy, dtype: int64"
      ]
     },
     "execution_count": 82,
     "metadata": {},
     "output_type": "execute_result"
    }
   ],
   "source": [
    "df['toy'].value_counts(dropna =True)"
   ]
  },
  {
   "cell_type": "code",
   "execution_count": 83,
   "id": "appointed-hammer",
   "metadata": {},
   "outputs": [
    {
     "data": {
      "text/html": [
       "<div>\n",
       "<style scoped>\n",
       "    .dataframe tbody tr th:only-of-type {\n",
       "        vertical-align: middle;\n",
       "    }\n",
       "\n",
       "    .dataframe tbody tr th {\n",
       "        vertical-align: top;\n",
       "    }\n",
       "\n",
       "    .dataframe thead th {\n",
       "        text-align: right;\n",
       "    }\n",
       "</style>\n",
       "<table border=\"1\" class=\"dataframe\">\n",
       "  <thead>\n",
       "    <tr style=\"text-align: right;\">\n",
       "      <th></th>\n",
       "      <th>name</th>\n",
       "      <th>toy</th>\n",
       "      <th>born</th>\n",
       "    </tr>\n",
       "  </thead>\n",
       "  <tbody>\n",
       "    <tr>\n",
       "      <th>0</th>\n",
       "      <td>True</td>\n",
       "      <td>False</td>\n",
       "      <td>False</td>\n",
       "    </tr>\n",
       "    <tr>\n",
       "      <th>1</th>\n",
       "      <td>True</td>\n",
       "      <td>True</td>\n",
       "      <td>True</td>\n",
       "    </tr>\n",
       "    <tr>\n",
       "      <th>2</th>\n",
       "      <td>True</td>\n",
       "      <td>True</td>\n",
       "      <td>False</td>\n",
       "    </tr>\n",
       "  </tbody>\n",
       "</table>\n",
       "</div>"
      ],
      "text/plain": [
       "   name    toy   born\n",
       "0  True  False  False\n",
       "1  True   True   True\n",
       "2  True   True  False"
      ]
     },
     "execution_count": 83,
     "metadata": {},
     "output_type": "execute_result"
    }
   ],
   "source": [
    "df.notnull()"
   ]
  },
  {
   "cell_type": "code",
   "execution_count": 84,
   "id": "functioning-philosophy",
   "metadata": {},
   "outputs": [
    {
     "data": {
      "text/plain": [
       "born   NaT\n",
       "dtype: timedelta64[ns]"
      ]
     },
     "execution_count": 84,
     "metadata": {},
     "output_type": "execute_result"
    }
   ],
   "source": [
    "df.std()"
   ]
  },
  {
   "cell_type": "code",
   "execution_count": null,
   "id": "basic-blake",
   "metadata": {},
   "outputs": [],
   "source": [
    " data = pd.read_excel('data.xlxs')   #reads excel files"
   ]
  },
  {
   "cell_type": "code",
   "execution_count": null,
   "id": "devoted-cookie",
   "metadata": {},
   "outputs": [],
   "source": [
    " data = pd.read_excel('data.xlxs',sheet_name = 'sheet2') #reads excel files and sheets"
   ]
  },
  {
   "cell_type": "code",
   "execution_count": null,
   "id": "previous-norfolk",
   "metadata": {},
   "outputs": [],
   "source": [
    "data.iloc[0,0] =34  #changes value"
   ]
  },
  {
   "cell_type": "code",
   "execution_count": null,
   "id": "military-discovery",
   "metadata": {},
   "outputs": [],
   "source": [
    "data.to_excel('data.xlxs',sheet_name = 'sheet2') #writes excel file.Here it will put 34 at [0,0]"
   ]
  }
 ],
 "metadata": {
  "kernelspec": {
   "display_name": "Python 3.9.1 64-bit",
   "language": "python",
   "name": "python39164bitf58e04734c2748f28d857a36f7bd6dce"
  },
  "language_info": {
   "codemirror_mode": {
    "name": "ipython",
    "version": 3
   },
   "file_extension": ".py",
   "mimetype": "text/x-python",
   "name": "python",
   "nbconvert_exporter": "python",
   "pygments_lexer": "ipython3",
   "version": "3.9.1"
  },
  "toc-autonumbering": true,
  "toc-showtags": true
 },
 "nbformat": 4,
 "nbformat_minor": 5
}
